{
 "cells": [
  {
   "cell_type": "markdown",
   "metadata": {
    "id": "UEKwxPVBF4Kd"
   },
   "source": [
    "# **Lab: Neural Networks**\n",
    "---\n",
    "## Exercise 2: Multi-Class Classification\n",
    "\n",
    "The dataset we will be using is the famous MNIST.\n",
    "\n",
    "The data was originally published by Professor Dr. Hans Hofmann\n",
    "Institut f\"ur Statistik und \"Okonometrie\n",
    "Universit\"at Hamburg\n",
    "FB Wirtschaftswissenschaften\n",
    "Von-Melle-Park 5\n",
    "2000 Hamburg 13\n",
    "\n",
    "Each observation is an black and white image of size 28 by 28 representing a single hand-written digit.\n",
    "\n",
    "This dataset is avalaible from Tensorflow: [MNIST](https://www.tensorflow.org/api_docs/python/tf/keras/datasets/mnist)\n",
    "\n",
    "Our goal is to build a Neural Network model that can predict accurately the hand-written digit from an image.\n",
    "\n",
    "The steps are:\n",
    "1.   Launch Docker image\n",
    "2.   Loading and Exploration of the Dataset\n",
    "3.   Preparing the Dataset\n",
    "4.   Defining the Architecture of the Multi-Layer Perceptron\n",
    "5.   Training and Evaluation of the Model\n",
    "6.   Analysing the Results\n",
    "7.   Push changes\n"
   ]
  },
  {
   "cell_type": "markdown",
   "metadata": {
    "id": "z1uxFpFNZgj-"
   },
   "source": [
    "## Exercise 2"
   ]
  },
  {
   "cell_type": "markdown",
   "metadata": {
    "id": "MuX0HZsLWCcW",
    "jp-MarkdownHeadingCollapsed": true
   },
   "source": [
    "### 1. Launch Docker image"
   ]
  },
  {
   "cell_type": "markdown",
   "metadata": {
    "id": "ctLdvUR9WC6E"
   },
   "source": [
    "**[1.1]** Go to the folder you created previously"
   ]
  },
  {
   "cell_type": "code",
   "execution_count": null,
   "metadata": {
    "id": "3rFzPCogWC_D"
   },
   "outputs": [],
   "source": [
    "# Placeholder for student's code (command line)"
   ]
  },
  {
   "cell_type": "code",
   "execution_count": null,
   "metadata": {
    "id": "5MNlGUnWWDBY"
   },
   "outputs": [],
   "source": [
    "# Solution:\n",
    "cd /Users/anthonyso/Projects/adv_mla_2024"
   ]
  },
  {
   "cell_type": "markdown",
   "metadata": {
    "id": "dzPavLbCWM-S"
   },
   "source": [
    "**[1.2]** Run the built Docker image"
   ]
  },
  {
   "cell_type": "code",
   "execution_count": null,
   "metadata": {
    "id": "cerR2NV_WNGp"
   },
   "outputs": [],
   "source": [
    "# Placeholder for student's code (command line)"
   ]
  },
  {
   "cell_type": "code",
   "execution_count": null,
   "metadata": {
    "id": "-ExpsCzwWNP2"
   },
   "outputs": [],
   "source": [
    "# Solution:\n",
    "docker run  -dit --rm --name adv_mla_lab_8 -p 8888:8888 -v ~/Projects/adv_mla_2024/adv_mla_lab_8:/home/jovyan/work/ tensorflow-jupyter:latest"
   ]
  },
  {
   "cell_type": "markdown",
   "metadata": {
    "id": "OHewNt59Wd4p"
   },
   "source": [
    "**[1.3]** Display last 50 lines of logs"
   ]
  },
  {
   "cell_type": "code",
   "execution_count": null,
   "metadata": {
    "id": "dvfjKWSdWd_p"
   },
   "outputs": [],
   "source": [
    "# Placeholder for student's code (command line)"
   ]
  },
  {
   "cell_type": "code",
   "execution_count": null,
   "metadata": {
    "id": "BTFLSyXqWeCp"
   },
   "outputs": [],
   "source": [
    "# Solution\n",
    "docker logs --tail 50 adv_mla_lab_8"
   ]
  },
  {
   "cell_type": "markdown",
   "metadata": {
    "id": "KjW7elSmWmU9"
   },
   "source": [
    "Syntax: docker logs [OPTIONS] CONTAINER\n",
    "\n",
    "Options:\n",
    "\n",
    "`--tail: Number of lines to show from the end of the logs`\n",
    "\n",
    "Documentation: https://docs.docker.com/engine/reference/commandline/logs/"
   ]
  },
  {
   "cell_type": "markdown",
   "metadata": {
    "id": "dnheiScHWjt3"
   },
   "source": [
    "**[1.4]** Copy the url displayed and paste it to a browser in order to launch Jupyter Lab"
   ]
  },
  {
   "cell_type": "markdown",
   "metadata": {
    "id": "Jy-HSL0KWv4Y"
   },
   "source": [
    "**[1.5]** Create a new git branch called `tf_multi_class`"
   ]
  },
  {
   "cell_type": "code",
   "execution_count": null,
   "metadata": {
    "id": "h7EgmUDwWj0g"
   },
   "outputs": [],
   "source": [
    "# Placeholder for student's code (command line)"
   ]
  },
  {
   "cell_type": "code",
   "execution_count": null,
   "metadata": {
    "id": "wa0MoThmWj3E"
   },
   "outputs": [],
   "source": [
    "# Solution\n",
    "git checkout -b tf_multi_class"
   ]
  },
  {
   "cell_type": "markdown",
   "metadata": {
    "id": "OgAx5yXXW_mV"
   },
   "source": [
    "**[1.6]** Create a subfolder `models/tf_multi_class`"
   ]
  },
  {
   "cell_type": "code",
   "execution_count": null,
   "metadata": {
    "id": "eEESZtSZXG6r"
   },
   "outputs": [],
   "source": [
    "# Placeholder for student's code (command line)"
   ]
  },
  {
   "cell_type": "code",
   "execution_count": null,
   "metadata": {
    "id": "c_gMTzMpXFao"
   },
   "outputs": [],
   "source": [
    "# Solution:\n",
    "mkdir models/tf_multi_class"
   ]
  },
  {
   "cell_type": "markdown",
   "metadata": {
    "id": "7z6s_0cLXNpS"
   },
   "source": [
    "**[1.7]** Navigate the folder `notebooks` and create a new jupyter notebook called `2_tf_multiclass.ipynb`"
   ]
  },
  {
   "cell_type": "markdown",
   "metadata": {
    "id": "JX32wNTnZn2M"
   },
   "source": [
    "### 2. Loading and Exploration of the Dataset"
   ]
  },
  {
   "cell_type": "markdown",
   "metadata": {
    "id": "YuPXcRO9Z9Y3"
   },
   "source": [
    "**[2.1]** Import the `mnist` class from tensorflow.keras.datasets"
   ]
  },
  {
   "cell_type": "code",
   "execution_count": null,
   "metadata": {
    "id": "LAROQ17Fccj8"
   },
   "outputs": [],
   "source": [
    "# Placeholder for student's code"
   ]
  },
  {
   "cell_type": "code",
   "execution_count": 1,
   "metadata": {
    "id": "3ny05HvcWmWe"
   },
   "outputs": [],
   "source": [
    "# Solution\n",
    "from tensorflow.keras.datasets import mnist"
   ]
  },
  {
   "cell_type": "markdown",
   "metadata": {
    "id": "wUP38WA4aFa9"
   },
   "source": [
    "**[2.2]** Load the dataset using the .load_data() method into 4 different variables: x_train, y_train, X_test and y_test\n",
    "\n",
    "Note: The dataset from Tensorflow has already been split into training and testing sets. The output is 2 tuples each containing the features and target variable as numpy arrays for the training and testing sets."
   ]
  },
  {
   "cell_type": "code",
   "execution_count": 2,
   "metadata": {
    "id": "9w4B4fwIl9lF"
   },
   "outputs": [],
   "source": [
    "# Placeholder for student's code"
   ]
  },
  {
   "cell_type": "code",
   "execution_count": 3,
   "metadata": {
    "id": "Zq2YNDAuaExT"
   },
   "outputs": [
    {
     "name": "stdout",
     "output_type": "stream",
     "text": [
      "Downloading data from https://storage.googleapis.com/tensorflow/tf-keras-datasets/mnist.npz\n",
      "11490434/11490434 [==============================] - 4s 0us/step\n"
     ]
    }
   ],
   "source": [
    "# Solution\n",
    "(X_train, y_train), (X_test, y_test) = mnist.load_data()"
   ]
  },
  {
   "cell_type": "markdown",
   "metadata": {
    "id": "kxmUIhmcR4wY"
   },
   "source": [
    "**[2.3]** Print out dimensions of X_train and X_test numpy arrays using the [.shape()](https://docs.scipy.org/doc/numpy/reference/generated/numpy.ndarray.shape.html) method\n"
   ]
  },
  {
   "cell_type": "code",
   "execution_count": 4,
   "metadata": {
    "id": "a4Jaz9e3TT5R"
   },
   "outputs": [],
   "source": [
    "# Placeholder for student's code"
   ]
  },
  {
   "cell_type": "code",
   "execution_count": 5,
   "metadata": {
    "id": "SlLrAop2SCw9"
   },
   "outputs": [
    {
     "name": "stdout",
     "output_type": "stream",
     "text": [
      "(60000, 28, 28)\n",
      "(10000, 28, 28)\n"
     ]
    }
   ],
   "source": [
    "# Solution\n",
    "print(X_train.shape)\n",
    "print(X_test.shape)"
   ]
  },
  {
   "cell_type": "markdown",
   "metadata": {
    "id": "NbBbAFLDTqM3"
   },
   "source": [
    "**[2.4]** Print out at the first image of X_train and its target value on y_train using Matplotlib [.imshow()](https://matplotlib.org/3.1.3/api/_as_gen/matplotlib.pyplot.imshow.html) and [.title()](https://matplotlib.org/3.1.3/api/_as_gen/matplotlib.pyplot.title.html?highlight=title#matplotlib.pyplot.title)"
   ]
  },
  {
   "cell_type": "code",
   "execution_count": 6,
   "metadata": {
    "id": "gSz37raOl9lW"
   },
   "outputs": [],
   "source": [
    "# Placeholder for student's code"
   ]
  },
  {
   "cell_type": "code",
   "execution_count": 7,
   "metadata": {
    "id": "co97pwEGUA8r"
   },
   "outputs": [
    {
     "data": {
      "image/png": "[encoded data removed]",
      "text/plain": [
       "<Figure size 640x480 with 1 Axes>"
      ]
     },
     "metadata": {},
     "output_type": "display_data"
    }
   ],
   "source": [
    "# Solution\n",
    "import matplotlib.pyplot as plt\n",
    "\n",
    "plt.title(y_train[0])\n",
    "plt.imshow(X_train[0])\n",
    "plt.show()"
   ]
  },
  {
   "cell_type": "markdown",
   "metadata": {
    "id": "rs2UQxI5j7Jz"
   },
   "source": [
    "### 3.   Preparing the Dataset"
   ]
  },
  {
   "cell_type": "markdown",
   "metadata": {
    "id": "ltZ3InAvkNfZ"
   },
   "source": [
    "**[3.1]** Normalise both the features for the training and testing sets.\n",
    "\n",
    "Note: An image is composed of pixels with values from 0 to 255. We can therefore normalize it by dividing its pixels by the maximum value (ie 255). All pixel values will be then ranging from 0 to 1."
   ]
  },
  {
   "cell_type": "code",
   "execution_count": 8,
   "metadata": {
    "id": "eGHmWQ00l9le"
   },
   "outputs": [],
   "source": [
    "# Placeholder for student's code"
   ]
  },
  {
   "cell_type": "code",
   "execution_count": 9,
   "metadata": {
    "id": "lGywxAAWkN9G"
   },
   "outputs": [],
   "source": [
    "# Solution\n",
    "X_train = X_train / 255.0\n",
    "X_test = X_test / 255.0"
   ]
  },
  {
   "cell_type": "markdown",
   "metadata": {
    "id": "V3IaeUq0oq3v"
   },
   "source": [
    "**[3.2]** Print the minimum and maximum values of the training and testing sets using .min()"
   ]
  },
  {
   "cell_type": "code",
   "execution_count": 10,
   "metadata": {
    "id": "vDWWLKhIl9lj"
   },
   "outputs": [],
   "source": [
    "# Placeholder for student's code"
   ]
  },
  {
   "cell_type": "code",
   "execution_count": 11,
   "metadata": {
    "id": "LKOxtSEroq8y"
   },
   "outputs": [
    {
     "name": "stdout",
     "output_type": "stream",
     "text": [
      "0.0\n",
      "1.0\n",
      "0.0\n",
      "1.0\n"
     ]
    }
   ],
   "source": [
    "# Solution\n",
    "print(X_train.min())\n",
    "print(X_train.max())\n",
    "print(X_test.min())\n",
    "print(X_test.max())"
   ]
  },
  {
   "cell_type": "markdown",
   "metadata": {
    "id": "iZlqLo9xAGPP"
   },
   "source": [
    "### 4.   Defining the Architecture of the Multi-Layer Perceptron"
   ]
  },
  {
   "cell_type": "markdown",
   "metadata": {
    "id": "Tc3AaRmFl9lr"
   },
   "source": [
    "**[4.1]** Import tensorflow and numpy"
   ]
  },
  {
   "cell_type": "code",
   "execution_count": 12,
   "metadata": {
    "id": "Uz6Z6FdIcq2b"
   },
   "outputs": [],
   "source": [
    "# Placeholder for student's code"
   ]
  },
  {
   "cell_type": "code",
   "execution_count": 13,
   "metadata": {
    "id": "FsrY6FStAFTK"
   },
   "outputs": [],
   "source": [
    "# Solution\n",
    "import tensorflow as tf\n",
    "import numpy as np"
   ]
  },
  {
   "cell_type": "markdown",
   "metadata": {
    "id": "oatZilMrAZWm"
   },
   "source": [
    "**[4.2]** Then we will set the seeds for tensorflow and numpy in order to get reproducible results"
   ]
  },
  {
   "cell_type": "code",
   "execution_count": 14,
   "metadata": {
    "id": "L8UCIbxzcseW"
   },
   "outputs": [],
   "source": [
    "# Placeholder for student's code"
   ]
  },
  {
   "cell_type": "code",
   "execution_count": 15,
   "metadata": {
    "id": "fvra9IKiAZc6"
   },
   "outputs": [],
   "source": [
    "# Solution\n",
    "tf.random.set_seed(42)"
   ]
  },
  {
   "cell_type": "markdown",
   "metadata": {
    "id": "GRqMKMKSAg1L"
   },
   "source": [
    "**[4.3]** Instantiate a [.Sequential()](https://www.tensorflow.org/api_docs/python/tf/keras/Sequential) class and call it `model`"
   ]
  },
  {
   "cell_type": "code",
   "execution_count": 16,
   "metadata": {
    "id": "x3ZUr1E-l9lz"
   },
   "outputs": [],
   "source": [
    "# Placeholder for student's code"
   ]
  },
  {
   "cell_type": "code",
   "execution_count": 17,
   "metadata": {
    "id": "JfOK0UK-Ag-q"
   },
   "outputs": [],
   "source": [
    "# Solution\n",
    "model = tf.keras.Sequential()"
   ]
  },
  {
   "cell_type": "markdown",
   "metadata": {
    "id": "eZQ_V8V0C0NG"
   },
   "source": [
    "**[4.4]** Import the [Dense()](https://www.tensorflow.org/api_docs/python/tf/keras/layers/Dense) and [Flatten()](https://www.tensorflow.org/api_docs/python/tf/keras/layers/Flatten) classes"
   ]
  },
  {
   "cell_type": "code",
   "execution_count": 18,
   "metadata": {
    "id": "PrUr-ePVcz1H"
   },
   "outputs": [],
   "source": [
    "# Placeholder for student's code"
   ]
  },
  {
   "cell_type": "code",
   "execution_count": 19,
   "metadata": {
    "id": "CunmGe6nC0R7"
   },
   "outputs": [],
   "source": [
    "# Solution\n",
    "from tensorflow.keras.layers import Dense, Flatten"
   ]
  },
  {
   "cell_type": "markdown",
   "metadata": {
    "id": "B-Cr4ZpMl9l8"
   },
   "source": [
    "**[4.5]** Convert the input tensors from rank 2 to 1 before feeding them to a fully-connected layer using [Flatten()](https://www.tensorflow.org/api_docs/python/tf/keras/layers/Flatten)"
   ]
  },
  {
   "cell_type": "code",
   "execution_count": 20,
   "metadata": {
    "id": "DSL_Snv5l9l9"
   },
   "outputs": [],
   "source": [
    "# Placeholder for student's code"
   ]
  },
  {
   "cell_type": "code",
   "execution_count": 21,
   "metadata": {
    "id": "bCDj69Bal9l_"
   },
   "outputs": [],
   "source": [
    "# Solution\n",
    "flatten_layer = Flatten(input_shape=(28,28))"
   ]
  },
  {
   "cell_type": "markdown",
   "metadata": {
    "id": "DGXmYPXhAlEc"
   },
   "source": [
    "**[4.6]** Create a hidden layer of 256 fully connected neurins with ReLU as the activation function followed by another fully connected layer responsible of making final predictions"
   ]
  },
  {
   "cell_type": "code",
   "execution_count": 22,
   "metadata": {
    "id": "t9C5U3yil9mC"
   },
   "outputs": [],
   "source": [
    "# Placeholder for student's code"
   ]
  },
  {
   "cell_type": "code",
   "execution_count": 23,
   "metadata": {
    "id": "WXcAYasrAlJm"
   },
   "outputs": [],
   "source": [
    "# Solution\n",
    "layer1 = Dense(256, activation='relu')\n",
    "top_layer = Dense(10, activation='softmax')"
   ]
  },
  {
   "cell_type": "markdown",
   "metadata": {
    "id": "HKZiszE5B1ER"
   },
   "source": [
    "**[4.7]** Assemble the different layers we just defined to create our first MLP. We will be using the [.add()](https://www.tensorflow.org/api_docs/python/tf/keras/layers/add) method"
   ]
  },
  {
   "cell_type": "code",
   "execution_count": 24,
   "metadata": {
    "id": "5j10HwhRl9mH"
   },
   "outputs": [],
   "source": [
    "# Placeholder for student's code"
   ]
  },
  {
   "cell_type": "code",
   "execution_count": 25,
   "metadata": {
    "id": "Goi9jTI_B1KE"
   },
   "outputs": [],
   "source": [
    "# Solution\n",
    "model.add(flatten_layer)\n",
    "model.add(layer1)\n",
    "model.add(top_layer)"
   ]
  },
  {
   "cell_type": "markdown",
   "metadata": {
    "id": "t0rT2G27l9mM"
   },
   "source": [
    "[4.8] Instantiate the [Adam()](https://www.tensorflow.org/api_docs/python/tf/keras/optimizers/Adam) class, specify the learning rate to be 0.001 and save it into a variable called `optimizer`"
   ]
  },
  {
   "cell_type": "code",
   "execution_count": 26,
   "metadata": {
    "id": "8ysbBz8kc3Cv"
   },
   "outputs": [],
   "source": [
    "# Placeholder for student's code"
   ]
  },
  {
   "cell_type": "code",
   "execution_count": 27,
   "metadata": {
    "id": "9Bgx8bkYl9mN"
   },
   "outputs": [],
   "source": [
    "# Solution\n",
    "optimizer = tf.keras.optimizers.Adam(0.001)"
   ]
  },
  {
   "cell_type": "markdown",
   "metadata": {
    "id": "UpZnt0eBCDrC"
   },
   "source": [
    "**[4.9]** Configure the learning process using the [.compile()](https://www.tensorflow.org/api_docs/python/tf/keras/Model#methods_2) method and specify the loss function, optimizer and the metrics to be used"
   ]
  },
  {
   "cell_type": "code",
   "execution_count": 28,
   "metadata": {
    "id": "kY4m0j_Vl9mQ"
   },
   "outputs": [],
   "source": [
    "# Placeholder for student's code"
   ]
  },
  {
   "cell_type": "code",
   "execution_count": 29,
   "metadata": {
    "id": "zFjBWfldCDwl"
   },
   "outputs": [],
   "source": [
    "# Solution\n",
    "model.compile(loss='sparse_categorical_crossentropy', optimizer=optimizer, metrics=['accuracy'])"
   ]
  },
  {
   "cell_type": "markdown",
   "metadata": {
    "id": "MxUWpfWFC422"
   },
   "source": [
    "**[4.10]** Print the model architecture with [.summary()](https://www.tensorflow.org/api_docs/python/tf/keras/Model#summary)"
   ]
  },
  {
   "cell_type": "code",
   "execution_count": 30,
   "metadata": {
    "id": "uIrceObSc4cc"
   },
   "outputs": [],
   "source": [
    "# Placeholder for student's code"
   ]
  },
  {
   "cell_type": "code",
   "execution_count": 31,
   "metadata": {
    "id": "HRqzbkfKC4_i"
   },
   "outputs": [
    {
     "name": "stdout",
     "output_type": "stream",
     "text": [
      "Model: \"sequential\"\n",
      "_________________________________________________________________\n",
      " Layer (type)                Output Shape              Param #   \n",
      "=================================================================\n",
      " flatten (Flatten)           (None, 784)               0         \n",
      "                                                                 \n",
      " dense (Dense)               (None, 256)               200960    \n",
      "                                                                 \n",
      " dense_1 (Dense)             (None, 10)                2570      \n",
      "                                                                 \n",
      "=================================================================\n",
      "Total params: 203530 (795.04 KB)\n",
      "Trainable params: 203530 (795.04 KB)\n",
      "Non-trainable params: 0 (0.00 Byte)\n",
      "_________________________________________________________________\n"
     ]
    }
   ],
   "source": [
    "# Solution\n",
    "model.summary()"
   ]
  },
  {
   "cell_type": "markdown",
   "metadata": {
    "id": "vDZzm2OPl9mY"
   },
   "source": [
    "### 5. Training and Evaluation of the Model"
   ]
  },
  {
   "cell_type": "markdown",
   "metadata": {
    "id": "uquWmZufC7mF"
   },
   "source": [
    "**[5.1]** Train the model using the [.fit()](https://www.tensorflow.org/api_docs/python/tf/keras/Model#fit) method on the training set on 5 epochs and create a validation set (20%)"
   ]
  },
  {
   "cell_type": "code",
   "execution_count": 32,
   "metadata": {
    "id": "XNWcGF1fl9mb"
   },
   "outputs": [],
   "source": [
    "# Placeholder for student's code"
   ]
  },
  {
   "cell_type": "code",
   "execution_count": 33,
   "metadata": {
    "id": "rNG1K1E6C7tJ"
   },
   "outputs": [
    {
     "name": "stdout",
     "output_type": "stream",
     "text": [
      "Epoch 1/5\n",
      "1500/1500 [==============================] - 4s 2ms/step - loss: 0.2472 - accuracy: 0.9286 - val_loss: 0.1245 - val_accuracy: 0.9659\n",
      "Epoch 2/5\n",
      "1500/1500 [==============================] - 3s 2ms/step - loss: 0.1021 - accuracy: 0.9699 - val_loss: 0.1058 - val_accuracy: 0.9693\n",
      "Epoch 3/5\n",
      "1500/1500 [==============================] - 3s 2ms/step - loss: 0.0677 - accuracy: 0.9798 - val_loss: 0.0966 - val_accuracy: 0.9712\n",
      "Epoch 4/5\n",
      "1500/1500 [==============================] - 3s 2ms/step - loss: 0.0471 - accuracy: 0.9860 - val_loss: 0.0849 - val_accuracy: 0.9729\n",
      "Epoch 5/5\n",
      "1500/1500 [==============================] - 3s 2ms/step - loss: 0.0354 - accuracy: 0.9893 - val_loss: 0.0827 - val_accuracy: 0.9764\n"
     ]
    }
   ],
   "source": [
    "# Solution\n",
    "history = model.fit(X_train, y_train, epochs=5, validation_split = 0.2)"
   ]
  },
  {
   "cell_type": "markdown",
   "metadata": {
    "id": "k23E7F3QDL2W"
   },
   "source": [
    "**[5.2]** Evaluate the performance of this model on the testing set using [.evaluate()](https://www.tensorflow.org/api_docs/python/tf/keras/Model#evaluate)"
   ]
  },
  {
   "cell_type": "code",
   "execution_count": 34,
   "metadata": {
    "id": "HbUWgftDl9mg"
   },
   "outputs": [],
   "source": [
    "# Placeholder for student's code"
   ]
  },
  {
   "cell_type": "code",
   "execution_count": 35,
   "metadata": {
    "id": "plvRANV9DL9T"
   },
   "outputs": [
    {
     "name": "stdout",
     "output_type": "stream",
     "text": [
      "313/313 [==============================] - 0s 836us/step - loss: 0.0751 - accuracy: 0.9776\n"
     ]
    },
    {
     "data": {
      "text/plain": [
       "[0.07506228983402252, 0.9775999784469604]"
      ]
     },
     "execution_count": 35,
     "metadata": {},
     "output_type": "execute_result"
    }
   ],
   "source": [
    "# Solution\n",
    "model.evaluate(X_test, y_test)"
   ]
  },
  {
   "cell_type": "markdown",
   "metadata": {
    "id": "5o5lPSzul9mj"
   },
   "source": [
    "### 6. Analysing the Results"
   ]
  },
  {
   "cell_type": "markdown",
   "metadata": {
    "id": "s-2CoA-UFmSw"
   },
   "source": [
    "**[6.1]** Plot the learning curve for accuracy score on the training and validation sets. We will use the [.plot()](https://matplotlib.org/3.1.1/api/_as_gen/matplotlib.pyplot.plot.html#matplotlib.pyplot.plot) method to create a line chart."
   ]
  },
  {
   "cell_type": "code",
   "execution_count": 36,
   "metadata": {
    "id": "w2KIRgz2c673"
   },
   "outputs": [],
   "source": [
    "# Placeholder for student's code"
   ]
  },
  {
   "cell_type": "code",
   "execution_count": 48,
   "metadata": {
    "id": "OUqGYPBjFmcV",
    "scrolled": true
   },
   "outputs": [
    {
     "data": {
      "image/png": "[encoded data removed]",
      "text/plain": [
       "<Figure size 640x480 with 1 Axes>"
      ]
     },
     "metadata": {},
     "output_type": "display_data"
    }
   ],
   "source": [
    "# Solution\n",
    "plt.plot(history.history['accuracy'], label='MSE training')\n",
    "plt.plot(history.history['val_accuracy'], label='MSE validation')\n",
    "plt.legend(loc=\"upper left\")\n",
    "plt.ylabel('accuracy')\n",
    "plt.xlabel('Epoch')\n",
    "plt.show()"
   ]
  },
  {
   "cell_type": "markdown",
   "metadata": {
    "id": "qSuZaKg9l9mn"
   },
   "source": [
    "**[6.2]** Using the trained model, print the predicted outcome on the first observation of the testing set by using the [.predict()](https://www.tensorflow.org/api_docs/python/tf/keras/Model#predict) method"
   ]
  },
  {
   "cell_type": "code",
   "execution_count": 38,
   "metadata": {
    "id": "x_mdypwac8JS"
   },
   "outputs": [],
   "source": [
    "# Placeholder for student's code"
   ]
  },
  {
   "cell_type": "code",
   "execution_count": 39,
   "metadata": {
    "id": "EPPh2ucsl9mo",
    "scrolled": true
   },
   "outputs": [
    {
     "name": "stdout",
     "output_type": "stream",
     "text": [
      "313/313 [==============================] - 0s 772us/step\n"
     ]
    },
    {
     "data": {
      "text/plain": [
       "array([1.0103027e-08, 6.9739549e-08, 5.2219883e-07, 2.4970729e-04,\n",
       "       1.9998172e-12, 4.0297309e-08, 2.8770893e-13, 9.9974841e-01,\n",
       "       2.6913889e-07, 1.0397342e-06], dtype=float32)"
      ]
     },
     "execution_count": 39,
     "metadata": {},
     "output_type": "execute_result"
    }
   ],
   "source": [
    "# Solution\n",
    "sparse_pred_test = model.predict(X_test)\n",
    "sparse_pred_test[0]"
   ]
  },
  {
   "cell_type": "markdown",
   "metadata": {
    "id": "dITa4V7Ol9mr"
   },
   "source": [
    "**[6.3]**  The output from the model is the probability for each class of the target variable. In order to get the final predicted value, we need to the [.argmax()](https://docs.scipy.org/doc/numpy/reference/generated/numpy.argmax.html) method from numpy."
   ]
  },
  {
   "cell_type": "code",
   "execution_count": 40,
   "metadata": {
    "id": "c6EPlnVzc9R9"
   },
   "outputs": [],
   "source": [
    "# Placeholder for student's code"
   ]
  },
  {
   "cell_type": "code",
   "execution_count": 41,
   "metadata": {
    "id": "Mr9mY8p_l9ms"
   },
   "outputs": [
    {
     "data": {
      "text/plain": [
       "7"
      ]
     },
     "execution_count": 41,
     "metadata": {},
     "output_type": "execute_result"
    }
   ],
   "source": [
    "# Solution\n",
    "pred_test = np.argmax(sparse_pred_test, 1)\n",
    "pred_test[0]"
   ]
  },
  {
   "cell_type": "markdown",
   "metadata": {
    "id": "fWbloZrkl9mw"
   },
   "source": [
    "**[6.4]** Let's compare this prediction to the actual true value"
   ]
  },
  {
   "cell_type": "code",
   "execution_count": 42,
   "metadata": {
    "id": "b37G35GDc-Ok"
   },
   "outputs": [],
   "source": [
    "# Placeholder for student's code"
   ]
  },
  {
   "cell_type": "code",
   "execution_count": 43,
   "metadata": {
    "id": "C7Ebxbu-l9mw"
   },
   "outputs": [
    {
     "data": {
      "text/plain": [
       "7"
      ]
     },
     "execution_count": 43,
     "metadata": {},
     "output_type": "execute_result"
    }
   ],
   "source": [
    "# Solution\n",
    "y_test[0]"
   ]
  },
  {
   "cell_type": "markdown",
   "metadata": {
    "id": "wD4UaFFGl9my"
   },
   "source": [
    "**[6.5]** Display the confusion matrix using the [.confusion_matrix()](https://www.tensorflow.org/api_docs/python/tf/math/confusion_matrix) method from TensorFlow."
   ]
  },
  {
   "cell_type": "code",
   "execution_count": 44,
   "metadata": {
    "id": "g0x2fy7Zc_QA"
   },
   "outputs": [],
   "source": [
    "# Placeholder for student's code"
   ]
  },
  {
   "cell_type": "code",
   "execution_count": 45,
   "metadata": {
    "id": "hL8BrkBNl9my"
   },
   "outputs": [
    {
     "data": {
      "text/plain": [
       "<tf.Tensor: shape=(10, 10), dtype=int32, numpy=\n",
       "array([[ 971,    0,    6,    0,    1,    3,    5,    1,    0,    3],\n",
       "       [   0, 1128,    1,    1,    0,    0,    4,    4,    1,    3],\n",
       "       [   1,    4, 1009,    5,    3,    0,    2,    6,    8,    0],\n",
       "       [   0,    2,    1,  992,    1,   16,    1,    5,   13,    6],\n",
       "       [   0,    0,    1,    0,  958,    0,    3,    0,    2,    5],\n",
       "       [   3,    1,    0,    1,    0,  858,    6,    0,    2,    2],\n",
       "       [   2,    0,    2,    0,    3,    5,  936,    0,    1,    0],\n",
       "       [   2,    0,    6,    5,    3,    3,    0, 1008,    2,   10],\n",
       "       [   1,    0,    6,    3,    0,    3,    1,    0,  936,    0],\n",
       "       [   0,    0,    0,    3,   13,    4,    0,    4,    9,  980]],\n",
       "      dtype=int32)>"
      ]
     },
     "execution_count": 45,
     "metadata": {},
     "output_type": "execute_result"
    }
   ],
   "source": [
    "# Solution\n",
    "confusion_mat = tf.math.confusion_matrix(pred_test, y_test, num_classes=10)\n",
    "confusion_mat"
   ]
  },
  {
   "cell_type": "markdown",
   "metadata": {
    "id": "5u5A5Yc7Z_H7"
   },
   "source": [
    "**[6.6]** Save the entire model (architecture and weights)"
   ]
  },
  {
   "cell_type": "code",
   "execution_count": 46,
   "metadata": {
    "id": "XtCUcsLFZ_QS"
   },
   "outputs": [],
   "source": [
    "# Placeholder for student's code (Python code)"
   ]
  },
  {
   "cell_type": "code",
   "execution_count": 47,
   "metadata": {
    "id": "puc-DhP0Z_S5"
   },
   "outputs": [
    {
     "name": "stdout",
     "output_type": "stream",
     "text": [
      "INFO:tensorflow:Assets written to: ../models/tf_multi_class/assets\n"
     ]
    },
    {
     "name": "stderr",
     "output_type": "stream",
     "text": [
      "INFO:tensorflow:Assets written to: ../models/tf_multi_class/assets\n"
     ]
    }
   ],
   "source": [
    "# Solution\n",
    "model.save('../models/tf_multi_class')"
   ]
  },
  {
   "cell_type": "markdown",
   "metadata": {
    "id": "4Co6CttMl9m1",
    "jp-MarkdownHeadingCollapsed": true
   },
   "source": [
    "# 7.   Push changes"
   ]
  },
  {
   "cell_type": "markdown",
   "metadata": {
    "id": "xbKu14XwaMjl"
   },
   "source": [
    "**[7.1]** Add you changes to git staging area"
   ]
  },
  {
   "cell_type": "code",
   "execution_count": null,
   "metadata": {
    "id": "BjqkoDUiaMmn"
   },
   "outputs": [],
   "source": [
    "# Placeholder for student's code (command line)"
   ]
  },
  {
   "cell_type": "code",
   "execution_count": null,
   "metadata": {
    "id": "A4_9JFwZaMn1"
   },
   "outputs": [],
   "source": [
    "# Solution:\n",
    "git add ."
   ]
  },
  {
   "cell_type": "markdown",
   "metadata": {
    "id": "OIAHUKrlaR8K"
   },
   "source": [
    "**[7.2]** Create the snapshot of your repository and add a description"
   ]
  },
  {
   "cell_type": "code",
   "execution_count": null,
   "metadata": {
    "id": "AE8rik89aSB7"
   },
   "outputs": [],
   "source": [
    "# Placeholder for student's code (command line)"
   ]
  },
  {
   "cell_type": "code",
   "execution_count": null,
   "metadata": {
    "id": "KWFgmFK7aSEW"
   },
   "outputs": [],
   "source": [
    "# Solution:\n",
    "git commit -m \"second tf model\""
   ]
  },
  {
   "cell_type": "markdown",
   "metadata": {
    "id": "1ew4l4b6aZ2q"
   },
   "source": [
    "**[7.3]** Push your snapshot to Github\n"
   ]
  },
  {
   "cell_type": "code",
   "execution_count": null,
   "metadata": {
    "id": "6ZORuxkaaZ-D"
   },
   "outputs": [],
   "source": [
    "# Placeholder for student's code (command line)"
   ]
  },
  {
   "cell_type": "code",
   "execution_count": null,
   "metadata": {
    "id": "XAlx4kT4aaAo"
   },
   "outputs": [],
   "source": [
    "# Solution:\n",
    "git push"
   ]
  },
  {
   "cell_type": "markdown",
   "metadata": {
    "id": "pvFN2Qx9ai__"
   },
   "source": [
    "**[7.4]** Go to Github and merge the branch after reviewing the code and fixing any conflict\n"
   ]
  },
  {
   "cell_type": "markdown",
   "metadata": {
    "id": "Kb3dExIBajUi"
   },
   "source": [
    "**[7.5]** Check out to the master branch"
   ]
  },
  {
   "cell_type": "code",
   "execution_count": null,
   "metadata": {
    "id": "9OYgxESoakFn"
   },
   "outputs": [],
   "source": [
    "# Placeholder for student's code (command line)"
   ]
  },
  {
   "cell_type": "code",
   "execution_count": null,
   "metadata": {
    "id": "FKVkE0qbajZi"
   },
   "outputs": [],
   "source": [
    "# Solution:\n",
    "git checkout master"
   ]
  },
  {
   "cell_type": "markdown",
   "metadata": {
    "id": "wd4SbyCPaqDh"
   },
   "source": [
    "**[7.6]** Pull the latest updates"
   ]
  },
  {
   "cell_type": "code",
   "execution_count": null,
   "metadata": {
    "id": "QsovFRiEaqLc"
   },
   "outputs": [],
   "source": [
    "# Placeholder for student's code (command line)"
   ]
  },
  {
   "cell_type": "code",
   "execution_count": null,
   "metadata": {
    "id": "5G-D6K3PaqN1"
   },
   "outputs": [],
   "source": [
    "# Solution\n",
    "git pull"
   ]
  },
  {
   "cell_type": "markdown",
   "metadata": {
    "id": "FC5fsR6kau4z"
   },
   "source": [
    "**[7.7]** Stop the Docker container"
   ]
  },
  {
   "cell_type": "code",
   "execution_count": null,
   "metadata": {
    "id": "q34lluQRau-G"
   },
   "outputs": [],
   "source": [
    "# Placeholder for student's code (command line)"
   ]
  },
  {
   "cell_type": "code",
   "execution_count": null,
   "metadata": {
    "id": "VbDXfqJravAd"
   },
   "outputs": [],
   "source": [
    "# Solution\n",
    "docker stop adv_mla_lab_8"
   ]
  },
  {
   "cell_type": "markdown",
   "metadata": {
    "id": "aEcQz58ta0Lb"
   },
   "source": [
    "Documentation: https://docs.docker.com/engine/reference/commandline/stop/"
   ]
  }
 ],
 "metadata": {
  "colab": {
   "provenance": [
    {
     "file_id": "1QQ0WOsJJkzG7ukCUtrdSVmXZbwCeUshN",
     "timestamp": 1647247916554
    }
   ]
  },
  "kernelspec": {
   "display_name": "Python 3 (ipykernel)",
   "language": "python",
   "name": "python3"
  },
  "language_info": {
   "codemirror_mode": {
    "name": "ipython",
    "version": 3
   },
   "file_extension": ".py",
   "mimetype": "text/x-python",
   "name": "python",
   "nbconvert_exporter": "python",
   "pygments_lexer": "ipython3",
   "version": "3.11.4"
  }
 },
 "nbformat": 4,
 "nbformat_minor": 4
}
