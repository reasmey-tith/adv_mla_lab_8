{
 "cells": [
  {
   "cell_type": "markdown",
   "metadata": {
    "id": "UEKwxPVBF4Kd"
   },
   "source": [
    "# **Lab: Neural Networks**\n",
    "---\n",
    "## Exercise 1: Regression\n",
    "\n",
    "In this lab, we will be working with structured data and train supervised learning architecture.\n",
    "\n",
    "The dataset we will be using is the famous Boston Housing. Each observation represents a suburb in the region of Boston with related information such as crime rate per capita, average number of rooms or percentage of owner-occupiers.\n",
    "\n",
    "The data dictionary can be found here: [Boston Housing Data Dictionary](https://www.cs.toronto.edu/~delve/data/boston/bostonDetail.html)\n",
    "\n",
    "This dataset is avalaible directly from TensorFlow: [Tensorflow Documentation on Boston Housing](https://www.tensorflow.org/api_docs/python/tf/keras/datasets/boston_housing)\n",
    "\n",
    "Our goal is to build a Neural Network model that can predict accurately the median price of a suburb in Boston (regression task).\n",
    "\n",
    "The steps are:\n",
    "1. Setup Repository\n",
    "2.   Loading and Exploration of the Dataset\n",
    "3.   Preparing the Dataset\n",
    "4.   Defining the Architecture of the Multi-Layer Perceptron\n",
    "5.   Training and Evaluation of the Model\n",
    "6.   Analysing the Results\n",
    "7.   Push Changes"
   ]
  },
  {
   "cell_type": "markdown",
   "metadata": {
    "id": "oNaQZC_xJqgK",
    "jp-MarkdownHeadingCollapsed": true
   },
   "source": [
    "### 1. Setup Repository"
   ]
  },
  {
   "cell_type": "markdown",
   "metadata": {
    "id": "wYs2p19dJ1aQ"
   },
   "source": [
    "**[1.1]** Go to a folder of your choice on your computer (where you store projects)"
   ]
  },
  {
   "cell_type": "code",
   "execution_count": null,
   "metadata": {
    "id": "diu0Xsa2J1iG"
   },
   "outputs": [],
   "source": [
    "# Placeholder for student's code (command line)"
   ]
  },
  {
   "cell_type": "code",
   "execution_count": null,
   "metadata": {
    "id": "s69Ti3dsJ1kM"
   },
   "outputs": [],
   "source": [
    "# Solution:\n",
    "cd /Users/anthonyso/Projects/adv_mla_2024"
   ]
  },
  {
   "cell_type": "markdown",
   "metadata": {
    "id": "A0712KneJ1rw"
   },
   "source": [
    "**[1.2]** Copy the cookiecutter data science template"
   ]
  },
  {
   "cell_type": "code",
   "execution_count": null,
   "metadata": {
    "id": "iktedwTNJ1xR"
   },
   "outputs": [],
   "source": [
    "# Placeholder for student's code (command line)"
   ]
  },
  {
   "cell_type": "code",
   "execution_count": null,
   "metadata": {
    "id": "iqd5-u4qJ1zT"
   },
   "outputs": [],
   "source": [
    "# Solution:\n",
    "cookiecutter -c v1 https://github.com/drivendata/cookiecutter-data-science"
   ]
  },
  {
   "cell_type": "markdown",
   "metadata": {
    "id": "ta9M17n9J2Jp"
   },
   "source": [
    "Follow the prompt (name the project and repo adv_mla_lab_8)"
   ]
  },
  {
   "cell_type": "markdown",
   "metadata": {
    "id": "XBMcAH3aKJjE"
   },
   "source": [
    "**[1.3]** Go inside the created folder\n"
   ]
  },
  {
   "cell_type": "code",
   "execution_count": null,
   "metadata": {
    "id": "y_7SI2eFJ2QM"
   },
   "outputs": [],
   "source": [
    "# Placeholder for student's code (command line)"
   ]
  },
  {
   "cell_type": "code",
   "execution_count": null,
   "metadata": {
    "id": "qHJ6mcvDJ2Sz"
   },
   "outputs": [],
   "source": [
    "#Solution:\n",
    "cd adv_mla_lab_8"
   ]
  },
  {
   "cell_type": "markdown",
   "metadata": {
    "id": "9-KIVlhMlP62"
   },
   "source": [
    "**[1.4]** Replace the content of `requirements.txt` with the following content:\n",
    "\n",
    "```\n",
    "scikit-learn==1.5.1\n",
    "pandas==2.2.2\n",
    "tensorflow-recommenders==0.7.3\n",
    "wandb==0.17.4\n",
    "```"
   ]
  },
  {
   "cell_type": "markdown",
   "metadata": {
    "id": "IvRkInjWKPLX"
   },
   "source": [
    "**[1.5]** Create a file called `Dockerfile` and add the following content:\n",
    "\n",
    "```\n",
    "FROM jupyter/tensorflow-notebook:python-3.11.4\n",
    "\n",
    "COPY requirements.txt .\n",
    "\n",
    "RUN pip install -r requirements.txt\n",
    "\n",
    "ENV PYTHONPATH \"${PYTHONPATH}:/home/jovyan/work\"\n",
    "\n",
    "WORKDIR /home/jovyan/work\n",
    "```\n"
   ]
  },
  {
   "cell_type": "code",
   "execution_count": null,
   "metadata": {
    "id": "fwu7XpozKPQo"
   },
   "outputs": [],
   "source": [
    "# Placeholder for student's code (command line)"
   ]
  },
  {
   "cell_type": "code",
   "execution_count": null,
   "metadata": {
    "id": "F7C31nBGKPS7"
   },
   "outputs": [],
   "source": [
    "#Solution:\n",
    "vi Dockerfile"
   ]
  },
  {
   "cell_type": "markdown",
   "metadata": {
    "id": "TnFBlGD6KjHF"
   },
   "source": [
    "**[1.5]** Build the image from this Dockerfile"
   ]
  },
  {
   "cell_type": "code",
   "execution_count": null,
   "metadata": {
    "id": "iIhftH_KKjNV"
   },
   "outputs": [],
   "source": [
    "# Placeholder for student's code (command line)"
   ]
  },
  {
   "cell_type": "code",
   "execution_count": null,
   "metadata": {
    "id": "iephNwRSKjPe"
   },
   "outputs": [],
   "source": [
    "#Solution:\n",
    "docker build -t tensorflow-jupyter:latest ."
   ]
  },
  {
   "cell_type": "markdown",
   "metadata": {
    "id": "uGYBEiVzKvxQ"
   },
   "source": [
    "Syntax: docker build [OPTIONS] PATH\n",
    "\n",
    "Options:\n",
    "\n",
    "`-t: Name and optionally a tag in the 'name:tag' format`\n",
    "\n",
    "Documentation: https://docs.docker.com/engine/reference/commandline/build/\n",
    "\n",
    "If you have issues with Apple M1/M2 CPU see [this](https://stackoverflow.com/questions/65456814/docker-apple-silicon-m1-preview-mysql-no-matching-manifest-for-linux-arm64-v8/67361161#67361161)"
   ]
  },
  {
   "cell_type": "markdown",
   "metadata": {
    "id": "Rdjj0WwnKw3w"
   },
   "source": [
    "**[1.6]** Run the built image"
   ]
  },
  {
   "cell_type": "code",
   "execution_count": null,
   "metadata": {
    "id": "hE8Rqil4KxCi"
   },
   "outputs": [],
   "source": [
    "# Placeholder for student's code (command line)"
   ]
  },
  {
   "cell_type": "code",
   "execution_count": null,
   "metadata": {
    "id": "prMkyWqPKwKW"
   },
   "outputs": [],
   "source": [
    "# Solution:\n",
    "docker run  -dit --rm --name adv_mla_lab_8 -p 8888:8888 -v ~/Projects/adv_mla_2024/adv_mla_lab_8:/home/jovyan/work/ tensorflow-jupyter:latest"
   ]
  },
  {
   "cell_type": "markdown",
   "metadata": {
    "id": "Z3MArz_OK89L"
   },
   "source": [
    "**[1.7]** Display last 50 lines of logs"
   ]
  },
  {
   "cell_type": "code",
   "execution_count": null,
   "metadata": {
    "id": "VL-0bO3PK9F1"
   },
   "outputs": [],
   "source": [
    "# Placeholder for student's code (command line)"
   ]
  },
  {
   "cell_type": "code",
   "execution_count": null,
   "metadata": {
    "id": "Iybn-Q-2K9Ii"
   },
   "outputs": [],
   "source": [
    "# Solution:\n",
    "docker logs --tail 50 adv_mla_lab_8"
   ]
  },
  {
   "cell_type": "markdown",
   "metadata": {
    "id": "MywwSW8iLIE1"
   },
   "source": [
    "Copy the url displayed and paste it to a browser in order to launch Jupyter Lab"
   ]
  },
  {
   "cell_type": "markdown",
   "metadata": {
    "id": "TZVfyOHLLFVG"
   },
   "source": [
    "**[1.8]** Initialise the repo"
   ]
  },
  {
   "cell_type": "code",
   "execution_count": null,
   "metadata": {
    "id": "8pgIDk2eLFb5"
   },
   "outputs": [],
   "source": [
    "# Placeholder for student's code (command line)"
   ]
  },
  {
   "cell_type": "code",
   "execution_count": null,
   "metadata": {
    "id": "PQftNUOmLFeg"
   },
   "outputs": [],
   "source": [
    "# Solution:\n",
    "git init"
   ]
  },
  {
   "cell_type": "markdown",
   "metadata": {
    "id": "M_6MJHHgLPTP"
   },
   "source": [
    "**[1.9]** Login into Github with your account (https://github.com/) and create a public repo with the name `adv_mla_lab_8`"
   ]
  },
  {
   "cell_type": "markdown",
   "metadata": {
    "id": "MHCe6DHnLS5o"
   },
   "source": [
    "**[1.10]** In your local repo, link it with Github (replace the url with your username)"
   ]
  },
  {
   "cell_type": "code",
   "execution_count": null,
   "metadata": {
    "id": "IJ67mgKxLPYu"
   },
   "outputs": [],
   "source": [
    "# Placeholder for student's code (command line)"
   ]
  },
  {
   "cell_type": "code",
   "execution_count": null,
   "metadata": {
    "id": "ZXLedaOzLPa2"
   },
   "outputs": [],
   "source": [
    "# Solution:\n",
    "git remote add origin git@github.com:<username>/adv_mla_lab_8"
   ]
  },
  {
   "cell_type": "markdown",
   "metadata": {
    "id": "1jCk71PSLe5b"
   },
   "source": [
    "**[1.11]** Add you changes to git staging area and commit them"
   ]
  },
  {
   "cell_type": "code",
   "execution_count": null,
   "metadata": {
    "id": "UJ8OMKyILe-6"
   },
   "outputs": [],
   "source": [
    "# Placeholder for student's code (command line)"
   ]
  },
  {
   "cell_type": "code",
   "execution_count": null,
   "metadata": {
    "id": "LquuiNK5LfK7"
   },
   "outputs": [],
   "source": [
    "# Solution:\n",
    "git add .\n",
    "git commit -m \"init\""
   ]
  },
  {
   "cell_type": "markdown",
   "metadata": {
    "id": "ueVWqqukLl4T"
   },
   "source": [
    "**[1.12]** Push your master branch to origin"
   ]
  },
  {
   "cell_type": "code",
   "execution_count": null,
   "metadata": {
    "id": "34fvYa7CLmAd"
   },
   "outputs": [],
   "source": [
    "# Placeholder for student's code (command line)"
   ]
  },
  {
   "cell_type": "code",
   "execution_count": null,
   "metadata": {
    "id": "4ab_nF2ZLmHg"
   },
   "outputs": [],
   "source": [
    "# Solution:\n",
    "git push --set-upstream origin main"
   ]
  },
  {
   "cell_type": "markdown",
   "metadata": {
    "id": "1_IFaOk_LsS9"
   },
   "source": [
    "**[1.13]** Preventing push to `master` branch"
   ]
  },
  {
   "cell_type": "code",
   "execution_count": null,
   "metadata": {
    "id": "8tpbeQDbLsdm"
   },
   "outputs": [],
   "source": [
    "# Placeholder for student's code (command line)"
   ]
  },
  {
   "cell_type": "code",
   "execution_count": null,
   "metadata": {
    "id": "bmzuD7B8Lsgm"
   },
   "outputs": [],
   "source": [
    "# Solution\n",
    "git config branch.master.pushRemote no_push"
   ]
  },
  {
   "cell_type": "markdown",
   "metadata": {
    "id": "PlmVfgj0Lv3g"
   },
   "source": [
    "**[1.14]** Create a new git branch called `tf_reg`"
   ]
  },
  {
   "cell_type": "code",
   "execution_count": null,
   "metadata": {
    "id": "iHwcOdBtLxG6"
   },
   "outputs": [],
   "source": [
    "# Placeholder for student's code (command line)"
   ]
  },
  {
   "cell_type": "code",
   "execution_count": null,
   "metadata": {
    "id": "nnHpwykvLxJm"
   },
   "outputs": [],
   "source": [
    "# Solution:\n",
    "git checkout -b tf_reg"
   ]
  },
  {
   "cell_type": "markdown",
   "metadata": {
    "id": "NbQs24UrTwBP"
   },
   "source": [
    "**[1.15]** Create a subfolder `models/tf_reg`"
   ]
  },
  {
   "cell_type": "code",
   "execution_count": null,
   "metadata": {
    "id": "IgBO-RlQTwIT"
   },
   "outputs": [],
   "source": [
    "# Placeholder for student's code (command line)"
   ]
  },
  {
   "cell_type": "code",
   "execution_count": null,
   "metadata": {
    "id": "uOEyWSJvTwiW"
   },
   "outputs": [],
   "source": [
    "# Solution:\n",
    "mkdir models/tf_reg"
   ]
  },
  {
   "cell_type": "markdown",
   "metadata": {
    "id": "tg2RzDLGL5Pu"
   },
   "source": [
    "**[1.16]** Navigate the folder `notebooks` and create a new jupyter notebook called `1_tf_reg.ipynb`"
   ]
  },
  {
   "cell_type": "markdown",
   "metadata": {
    "id": "JX32wNTnZn2M"
   },
   "source": [
    "### 2.   Load and Explore Dataset"
   ]
  },
  {
   "cell_type": "markdown",
   "metadata": {
    "id": "YuPXcRO9Z9Y3"
   },
   "source": [
    "**[2.1]** Import the [boston_housing](https://www.tensorflow.org/api_docs/python/tf/keras/datasets/boston_housing) dataset from tensorflow.keras.datasets"
   ]
  },
  {
   "cell_type": "code",
   "execution_count": null,
   "metadata": {
    "id": "46NnqT_mMQfB"
   },
   "outputs": [],
   "source": [
    "# Placeholder for student's code (Python code)"
   ]
  },
  {
   "cell_type": "code",
   "execution_count": 1,
   "metadata": {
    "id": "3ny05HvcWmWe"
   },
   "outputs": [],
   "source": [
    "# Solution:\n",
    "from tensorflow.keras.datasets import boston_housing"
   ]
  },
  {
   "cell_type": "markdown",
   "metadata": {
    "id": "wUP38WA4aFa9"
   },
   "source": [
    "**[2.2]**\n",
    "Load the dataset using the [.load_data()](https://www.tensorflow.org/api_docs/python/tf/keras/datasets/boston_housing/load_data) method into 4 different variables: x_train, y_train, X_test and y_test\n",
    "\n",
    "Note: The dataset from Tensorflow has already been split into training and testing sets. The output is 2 tuples each containing the features and target variable as numpy arrays for the training and testing sets."
   ]
  },
  {
   "cell_type": "code",
   "execution_count": 2,
   "metadata": {
    "id": "c_ONQIAfMXqA"
   },
   "outputs": [],
   "source": [
    "# Placeholder for student's code (Python code)"
   ]
  },
  {
   "cell_type": "code",
   "execution_count": 3,
   "metadata": {
    "id": "Zq2YNDAuaExT"
   },
   "outputs": [
    {
     "name": "stdout",
     "output_type": "stream",
     "text": [
      "Downloading data from https://storage.googleapis.com/tensorflow/tf-keras-datasets/boston_housing.npz\n",
      "57026/57026 [==============================] - 0s 3us/step\n"
     ]
    }
   ],
   "source": [
    "# Solution:\n",
    "(X_train, y_train), (X_test, y_test) = boston_housing.load_data()"
   ]
  },
  {
   "cell_type": "markdown",
   "metadata": {
    "id": "kxmUIhmcR4wY"
   },
   "source": [
    "**[2.3]** Print out the dimensions of X_train and X_test numpy arrays using the [.shape()](https://docs.scipy.org/doc/numpy/reference/generated/numpy.ndarray.shape.html) method\n"
   ]
  },
  {
   "cell_type": "code",
   "execution_count": 4,
   "metadata": {
    "id": "a4Jaz9e3TT5R"
   },
   "outputs": [],
   "source": [
    "# Placeholder for student's code (Python code)"
   ]
  },
  {
   "cell_type": "code",
   "execution_count": 5,
   "metadata": {
    "id": "SlLrAop2SCw9"
   },
   "outputs": [
    {
     "name": "stdout",
     "output_type": "stream",
     "text": [
      "(404, 13)\n",
      "(102, 13)\n"
     ]
    }
   ],
   "source": [
    "# Solution\n",
    "print(X_train.shape)\n",
    "print(X_test.shape)"
   ]
  },
  {
   "cell_type": "markdown",
   "metadata": {
    "id": "NbBbAFLDTqM3"
   },
   "source": [
    "**[2.4]** Print out the first observation of X_train and y_train using **bold text**[numpy indexing](https://docs.scipy.org/doc/numpy/reference/arrays.indexing.html)"
   ]
  },
  {
   "cell_type": "code",
   "execution_count": 6,
   "metadata": {
    "id": "5rVIV6yIT_sw"
   },
   "outputs": [],
   "source": [
    "# Placeholder for student's code (Python code)"
   ]
  },
  {
   "cell_type": "code",
   "execution_count": 7,
   "metadata": {
    "id": "co97pwEGUA8r"
   },
   "outputs": [
    {
     "name": "stdout",
     "output_type": "stream",
     "text": [
      "[  1.23247   0.        8.14      0.        0.538     6.142    91.7\n",
      "   3.9769    4.      307.       21.      396.9      18.72   ]\n",
      "15.2\n"
     ]
    }
   ],
   "source": [
    "# Solution\n",
    "print(X_train[0])\n",
    "print(y_train[0])"
   ]
  },
  {
   "cell_type": "markdown",
   "metadata": {
    "id": "ecA6euzx11en"
   },
   "source": [
    "**[2.5]** Plot the histogram for the target variable of the training set using matplotlib [.hist()](https://matplotlib.org/3.2.0/api/_as_gen/matplotlib.pyplot.hist.html)"
   ]
  },
  {
   "cell_type": "code",
   "execution_count": 8,
   "metadata": {
    "id": "jBIjTBSuM0BR"
   },
   "outputs": [],
   "source": [
    "# Placeholder for student's code (Python code)"
   ]
  },
  {
   "cell_type": "code",
   "execution_count": 9,
   "metadata": {
    "id": "UBKcXmtL11eo"
   },
   "outputs": [
    {
     "data": {
      "image/png": "[encoded data removed]",
      "text/plain": [
       "<Figure size 640x480 with 1 Axes>"
      ]
     },
     "metadata": {},
     "output_type": "display_data"
    }
   ],
   "source": [
    "# Solution\n",
    "import matplotlib.pyplot as plt\n",
    "plt.hist(y_train)\n",
    "plt.show()"
   ]
  },
  {
   "cell_type": "markdown",
   "metadata": {
    "id": "TJOK3qLs11eq"
   },
   "source": [
    "**[2.6]** Plot the histogram for the target variable of the testing set using matplotlib"
   ]
  },
  {
   "cell_type": "code",
   "execution_count": 10,
   "metadata": {
    "id": "gyG0jWuaMXF6"
   },
   "outputs": [],
   "source": [
    "# Placeholder for student's code (Python code)"
   ]
  },
  {
   "cell_type": "code",
   "execution_count": 11,
   "metadata": {
    "id": "ZgG1NaF-11eq"
   },
   "outputs": [
    {
     "data": {
      "image/png": "[encoded data removed]",
      "text/plain": [
       "<Figure size 640x480 with 1 Axes>"
      ]
     },
     "metadata": {},
     "output_type": "display_data"
    }
   ],
   "source": [
    "# Solution\n",
    "plt.hist(y_test)\n",
    "plt.show()"
   ]
  },
  {
   "cell_type": "markdown",
   "metadata": {
    "id": "rs2UQxI5j7Jz"
   },
   "source": [
    "### 3.   Preparing the Dataset"
   ]
  },
  {
   "cell_type": "markdown",
   "metadata": {
    "id": "ltZ3InAvkNfZ"
   },
   "source": [
    "**[3.1]** Standardize the features for both the training and testing sets. We will use the [.scale()](https://scikit-learn.org/stable/modules/generated/sklearn.preprocessing.scale.html) method from scikit-learn"
   ]
  },
  {
   "cell_type": "code",
   "execution_count": 12,
   "metadata": {
    "id": "WwpDErkBMhQB"
   },
   "outputs": [],
   "source": [
    "# Placeholder for student's code (Python code)"
   ]
  },
  {
   "cell_type": "code",
   "execution_count": 13,
   "metadata": {
    "id": "lGywxAAWkN9G"
   },
   "outputs": [],
   "source": [
    "# Solution\n",
    "from sklearn.preprocessing import scale\n",
    "\n",
    "scaled_X_train = scale(X_train)\n",
    "scaled_X_test = scale(X_test)"
   ]
  },
  {
   "cell_type": "markdown",
   "metadata": {
    "id": "V3IaeUq0oq3v"
   },
   "source": [
    "**[3.2]** Print the scaled version of the first observation of the training set"
   ]
  },
  {
   "cell_type": "code",
   "execution_count": 14,
   "metadata": {
    "id": "IkCbrATNMiNW"
   },
   "outputs": [],
   "source": [
    "# Placeholder for student's code (Python code)"
   ]
  },
  {
   "cell_type": "code",
   "execution_count": 15,
   "metadata": {
    "id": "LKOxtSEroq8y"
   },
   "outputs": [
    {
     "name": "stdout",
     "output_type": "stream",
     "text": [
      "[-0.27224633 -0.48361547 -0.43576161 -0.25683275 -0.1652266  -0.1764426\n",
      "  0.81306188  0.1166983  -0.62624905 -0.59517003  1.14850044  0.44807713\n",
      "  0.8252202 ]\n"
     ]
    }
   ],
   "source": [
    "# Solution\n",
    "print(scaled_X_train[0])"
   ]
  },
  {
   "cell_type": "markdown",
   "metadata": {
    "id": "iZlqLo9xAGPP"
   },
   "source": [
    "### 4.   Defining the Architecture of the Multi-Layer Perceptron"
   ]
  },
  {
   "cell_type": "markdown",
   "metadata": {
    "id": "3VmaiDCM11e1"
   },
   "source": [
    "**[4.1]** Import tensorflow and numpy"
   ]
  },
  {
   "cell_type": "code",
   "execution_count": 16,
   "metadata": {
    "id": "NagMX1r-MjGi"
   },
   "outputs": [],
   "source": [
    "# Placeholder for student's code (Python code)"
   ]
  },
  {
   "cell_type": "code",
   "execution_count": 17,
   "metadata": {
    "id": "FsrY6FStAFTK"
   },
   "outputs": [],
   "source": [
    "# Solution\n",
    "import tensorflow as tf\n",
    "import numpy as np"
   ]
  },
  {
   "cell_type": "markdown",
   "metadata": {
    "id": "oatZilMrAZWm"
   },
   "source": [
    "**[4.2]** Set the seeds for tensorflow, keras and numpy in order to get reproducible results"
   ]
  },
  {
   "cell_type": "code",
   "execution_count": 18,
   "metadata": {
    "id": "zs9vcN2SMjxy"
   },
   "outputs": [],
   "source": [
    "# Placeholder for student's code (Python code)"
   ]
  },
  {
   "cell_type": "code",
   "execution_count": 19,
   "metadata": {
    "id": "fvra9IKiAZc6"
   },
   "outputs": [],
   "source": [
    "# Solution\n",
    "tf.random.set_seed(42)"
   ]
  },
  {
   "cell_type": "markdown",
   "metadata": {
    "id": "GRqMKMKSAg1L"
   },
   "source": [
    "**[4.3]** Instantiate a [.Sequential()](https://www.tensorflow.org/api_docs/python/tf/keras/Sequential) class and called it `model`"
   ]
  },
  {
   "cell_type": "code",
   "execution_count": 20,
   "metadata": {
    "id": "YPQ7b_z1Mlz4"
   },
   "outputs": [],
   "source": [
    "# Placeholder for student's code (Python code)"
   ]
  },
  {
   "cell_type": "code",
   "execution_count": 21,
   "metadata": {
    "id": "JfOK0UK-Ag-q"
   },
   "outputs": [],
   "source": [
    "# Solution\n",
    "model = tf.keras.Sequential()"
   ]
  },
  {
   "cell_type": "markdown",
   "metadata": {
    "id": "eZQ_V8V0C0NG"
   },
   "source": [
    "**[4.4]** Import the [Dense()](https://www.tensorflow.org/api_docs/python/tf/keras/layers/Dense) class (i.e. fully connected layer)"
   ]
  },
  {
   "cell_type": "code",
   "execution_count": 22,
   "metadata": {
    "id": "J-PCwGR6MmXJ"
   },
   "outputs": [],
   "source": [
    "# Placeholder for student's code (Python code)"
   ]
  },
  {
   "cell_type": "code",
   "execution_count": 23,
   "metadata": {
    "id": "CunmGe6nC0R7"
   },
   "outputs": [],
   "source": [
    "# Solution\n",
    "from tensorflow.keras.layers import Dense"
   ]
  },
  {
   "cell_type": "markdown",
   "metadata": {
    "id": "DGXmYPXhAlEc"
   },
   "source": [
    "**[4.5]** Create a hidden layer of 128 fully connected neurons and use ReLU as the activation function.\n",
    "\n",
    "**Note**: For any Neural Network in TensorFlow, we need to specify the shape of the inputs to the first layer with the parameter *input_shape*. Here the inputs will be array of 13 features."
   ]
  },
  {
   "cell_type": "code",
   "execution_count": 24,
   "metadata": {
    "id": "abQrGBeZMnGQ"
   },
   "outputs": [],
   "source": [
    "# Placeholder for student's code (Python code)"
   ]
  },
  {
   "cell_type": "code",
   "execution_count": 25,
   "metadata": {
    "id": "WXcAYasrAlJm"
   },
   "outputs": [],
   "source": [
    "# Solution\n",
    "layer1 = Dense(128, activation='relu', input_shape=[13])"
   ]
  },
  {
   "cell_type": "markdown",
   "metadata": {
    "id": "4j_oKnXsBgpy"
   },
   "source": [
    "**[4.6]** Define the final layer (also called top or head) that will be responsible of making the final predictions of our regression problem.\n"
   ]
  },
  {
   "cell_type": "code",
   "execution_count": 26,
   "metadata": {
    "id": "4x0W2lk011fB"
   },
   "outputs": [],
   "source": [
    "# Placeholder for student's code (Python code)"
   ]
  },
  {
   "cell_type": "code",
   "execution_count": 27,
   "metadata": {
    "id": "YpDU0iy5BmOs"
   },
   "outputs": [],
   "source": [
    "# Solution\n",
    "top_layer = Dense(1)"
   ]
  },
  {
   "cell_type": "markdown",
   "metadata": {
    "id": "HKZiszE5B1ER"
   },
   "source": [
    "**[4.7]** Assemble the different layers we just defined to create our first MLP using the [.add()](https://www.tensorflow.org/api_docs/python/tf/keras/layers/add) method"
   ]
  },
  {
   "cell_type": "code",
   "execution_count": 28,
   "metadata": {
    "id": "siQJoVAUMpWw"
   },
   "outputs": [],
   "source": [
    "# Placeholder for student's code (Python code)"
   ]
  },
  {
   "cell_type": "code",
   "execution_count": 29,
   "metadata": {
    "id": "Goi9jTI_B1KE"
   },
   "outputs": [],
   "source": [
    "# Solution\n",
    "model.add(layer1)\n",
    "model.add(top_layer)"
   ]
  },
  {
   "cell_type": "markdown",
   "metadata": {
    "id": "UpZnt0eBCDrC"
   },
   "source": [
    "**[4.8]** Configure the learning process using the [.compile()](https://www.tensorflow.org/api_docs/python/tf/keras/Model#methods_2) method and specify the loss function, optimizer (here Adam) and the metrics to be displayed."
   ]
  },
  {
   "cell_type": "code",
   "execution_count": 30,
   "metadata": {
    "id": "brrQyx5W11fI"
   },
   "outputs": [],
   "source": [
    "# Placeholder for student's code (Python code)"
   ]
  },
  {
   "cell_type": "code",
   "execution_count": 31,
   "metadata": {
    "id": "zFjBWfldCDwl"
   },
   "outputs": [],
   "source": [
    "# Solution\n",
    "model.compile(loss='mse', optimizer='adam', metrics=['mse'])"
   ]
  },
  {
   "cell_type": "markdown",
   "metadata": {
    "id": "MxUWpfWFC422"
   },
   "source": [
    "**[4.9]** Print the architecture of this model with [.summary()](https://www.tensorflow.org/api_docs/python/tf/keras/Model#summary)"
   ]
  },
  {
   "cell_type": "code",
   "execution_count": 32,
   "metadata": {
    "id": "Ri_5H5-JMrF9"
   },
   "outputs": [],
   "source": [
    "# Placeholder for student's code (Python code)"
   ]
  },
  {
   "cell_type": "code",
   "execution_count": 33,
   "metadata": {
    "id": "HRqzbkfKC4_i"
   },
   "outputs": [
    {
     "name": "stdout",
     "output_type": "stream",
     "text": [
      "Model: \"sequential\"\n",
      "_________________________________________________________________\n",
      " Layer (type)                Output Shape              Param #   \n",
      "=================================================================\n",
      " dense (Dense)               (None, 128)               1792      \n",
      "                                                                 \n",
      " dense_1 (Dense)             (None, 1)                 129       \n",
      "                                                                 \n",
      "=================================================================\n",
      "Total params: 1921 (7.50 KB)\n",
      "Trainable params: 1921 (7.50 KB)\n",
      "Non-trainable params: 0 (0.00 Byte)\n",
      "_________________________________________________________________\n"
     ]
    }
   ],
   "source": [
    "# Solution\n",
    "model.summary()"
   ]
  },
  {
   "cell_type": "markdown",
   "metadata": {
    "id": "KU5AjBP-11fR"
   },
   "source": [
    "### 5. Training and Evaluation of the Model"
   ]
  },
  {
   "cell_type": "markdown",
   "metadata": {
    "id": "uquWmZufC7mF"
   },
   "source": [
    "**[5.1]** Train the model with the [.fit()](https://www.tensorflow.org/api_docs/python/tf/keras/Model#fit) method on the training set for 50 epochs and split the data into a validation set (20% of the data)"
   ]
  },
  {
   "cell_type": "code",
   "execution_count": 34,
   "metadata": {
    "id": "9KSZq6gXNJzB"
   },
   "outputs": [],
   "source": [
    "# Placeholder for student's code (Python code)"
   ]
  },
  {
   "cell_type": "code",
   "execution_count": 35,
   "metadata": {
    "id": "rNG1K1E6C7tJ"
   },
   "outputs": [
    {
     "name": "stdout",
     "output_type": "stream",
     "text": [
      "Epoch 1/50\n",
      "11/11 [==============================] - 0s 8ms/step - loss: 574.4240 - mse: 574.4240 - val_loss: 633.5971 - val_mse: 633.5971\n",
      "Epoch 2/50\n",
      "11/11 [==============================] - 0s 2ms/step - loss: 550.0133 - mse: 550.0133 - val_loss: 609.4468 - val_mse: 609.4468\n",
      "Epoch 3/50\n",
      "11/11 [==============================] - 0s 2ms/step - loss: 527.1461 - mse: 527.1461 - val_loss: 585.0634 - val_mse: 585.0634\n",
      "Epoch 4/50\n",
      "11/11 [==============================] - 0s 2ms/step - loss: 503.7982 - mse: 503.7982 - val_loss: 560.3923 - val_mse: 560.3923\n",
      "Epoch 5/50\n",
      "11/11 [==============================] - 0s 2ms/step - loss: 479.3147 - mse: 479.3147 - val_loss: 533.3505 - val_mse: 533.3505\n",
      "Epoch 6/50\n",
      "11/11 [==============================] - 0s 2ms/step - loss: 452.9438 - mse: 452.9438 - val_loss: 504.3410 - val_mse: 504.3410\n",
      "Epoch 7/50\n",
      "11/11 [==============================] - 0s 2ms/step - loss: 423.8538 - mse: 423.8538 - val_loss: 472.3330 - val_mse: 472.3330\n",
      "Epoch 8/50\n",
      "11/11 [==============================] - 0s 4ms/step - loss: 391.8672 - mse: 391.8672 - val_loss: 438.9587 - val_mse: 438.9587\n",
      "Epoch 9/50\n",
      "11/11 [==============================] - 0s 2ms/step - loss: 359.9918 - mse: 359.9918 - val_loss: 402.1360 - val_mse: 402.1360\n",
      "Epoch 10/50\n",
      "11/11 [==============================] - 0s 2ms/step - loss: 324.9456 - mse: 324.9456 - val_loss: 365.8241 - val_mse: 365.8241\n",
      "Epoch 11/50\n",
      "11/11 [==============================] - 0s 2ms/step - loss: 291.1761 - mse: 291.1761 - val_loss: 331.2324 - val_mse: 331.2324\n",
      "Epoch 12/50\n",
      "11/11 [==============================] - 0s 2ms/step - loss: 258.4398 - mse: 258.4398 - val_loss: 296.6161 - val_mse: 296.6161\n",
      "Epoch 13/50\n",
      "11/11 [==============================] - 0s 2ms/step - loss: 227.9626 - mse: 227.9626 - val_loss: 264.4027 - val_mse: 264.4027\n",
      "Epoch 14/50\n",
      "11/11 [==============================] - 0s 2ms/step - loss: 199.9215 - mse: 199.9215 - val_loss: 233.5030 - val_mse: 233.5030\n",
      "Epoch 15/50\n",
      "11/11 [==============================] - 0s 2ms/step - loss: 174.1332 - mse: 174.1332 - val_loss: 207.9278 - val_mse: 207.9278\n",
      "Epoch 16/50\n",
      "11/11 [==============================] - 0s 2ms/step - loss: 152.7697 - mse: 152.7697 - val_loss: 184.0375 - val_mse: 184.0375\n",
      "Epoch 17/50\n",
      "11/11 [==============================] - 0s 2ms/step - loss: 133.8245 - mse: 133.8245 - val_loss: 163.4996 - val_mse: 163.4996\n",
      "Epoch 18/50\n",
      "11/11 [==============================] - 0s 2ms/step - loss: 117.6000 - mse: 117.6000 - val_loss: 146.1117 - val_mse: 146.1117\n",
      "Epoch 19/50\n",
      "11/11 [==============================] - 0s 3ms/step - loss: 104.5286 - mse: 104.5286 - val_loss: 131.4397 - val_mse: 131.4397\n",
      "Epoch 20/50\n",
      "11/11 [==============================] - 0s 2ms/step - loss: 92.9966 - mse: 92.9966 - val_loss: 118.6976 - val_mse: 118.6976\n",
      "Epoch 21/50\n",
      "11/11 [==============================] - 0s 2ms/step - loss: 83.3130 - mse: 83.3130 - val_loss: 106.7661 - val_mse: 106.7661\n",
      "Epoch 22/50\n",
      "11/11 [==============================] - 0s 3ms/step - loss: 75.0559 - mse: 75.0559 - val_loss: 96.6730 - val_mse: 96.6730\n",
      "Epoch 23/50\n",
      "11/11 [==============================] - 0s 2ms/step - loss: 67.7324 - mse: 67.7324 - val_loss: 87.9138 - val_mse: 87.9138\n",
      "Epoch 24/50\n",
      "11/11 [==============================] - 0s 2ms/step - loss: 61.5573 - mse: 61.5573 - val_loss: 79.9933 - val_mse: 79.9933\n",
      "Epoch 25/50\n",
      "11/11 [==============================] - 0s 2ms/step - loss: 55.8234 - mse: 55.8234 - val_loss: 73.4233 - val_mse: 73.4233\n",
      "Epoch 26/50\n",
      "11/11 [==============================] - 0s 2ms/step - loss: 51.0633 - mse: 51.0633 - val_loss: 67.3899 - val_mse: 67.3899\n",
      "Epoch 27/50\n",
      "11/11 [==============================] - 0s 2ms/step - loss: 46.8235 - mse: 46.8235 - val_loss: 61.6467 - val_mse: 61.6467\n",
      "Epoch 28/50\n",
      "11/11 [==============================] - 0s 2ms/step - loss: 42.9221 - mse: 42.9221 - val_loss: 56.6030 - val_mse: 56.6030\n",
      "Epoch 29/50\n",
      "11/11 [==============================] - 0s 2ms/step - loss: 39.3701 - mse: 39.3701 - val_loss: 51.8625 - val_mse: 51.8625\n",
      "Epoch 30/50\n",
      "11/11 [==============================] - 0s 2ms/step - loss: 36.4396 - mse: 36.4396 - val_loss: 47.8129 - val_mse: 47.8129\n",
      "Epoch 31/50\n",
      "11/11 [==============================] - 0s 2ms/step - loss: 34.1360 - mse: 34.1360 - val_loss: 44.9756 - val_mse: 44.9756\n",
      "Epoch 32/50\n",
      "11/11 [==============================] - 0s 2ms/step - loss: 32.3497 - mse: 32.3497 - val_loss: 42.3795 - val_mse: 42.3795\n",
      "Epoch 33/50\n",
      "11/11 [==============================] - 0s 4ms/step - loss: 30.8419 - mse: 30.8419 - val_loss: 40.2663 - val_mse: 40.2663\n",
      "Epoch 34/50\n",
      "11/11 [==============================] - 0s 2ms/step - loss: 29.6175 - mse: 29.6175 - val_loss: 38.3198 - val_mse: 38.3198\n",
      "Epoch 35/50\n",
      "11/11 [==============================] - 0s 2ms/step - loss: 28.5830 - mse: 28.5830 - val_loss: 36.4901 - val_mse: 36.4901\n",
      "Epoch 36/50\n",
      "11/11 [==============================] - 0s 2ms/step - loss: 27.5219 - mse: 27.5219 - val_loss: 35.1669 - val_mse: 35.1669\n",
      "Epoch 37/50\n",
      "11/11 [==============================] - 0s 2ms/step - loss: 26.8052 - mse: 26.8052 - val_loss: 33.8397 - val_mse: 33.8397\n",
      "Epoch 38/50\n",
      "11/11 [==============================] - 0s 2ms/step - loss: 26.1303 - mse: 26.1303 - val_loss: 32.7571 - val_mse: 32.7571\n",
      "Epoch 39/50\n",
      "11/11 [==============================] - 0s 2ms/step - loss: 25.5774 - mse: 25.5774 - val_loss: 31.8983 - val_mse: 31.8983\n",
      "Epoch 40/50\n",
      "11/11 [==============================] - 0s 2ms/step - loss: 25.0653 - mse: 25.0653 - val_loss: 31.1047 - val_mse: 31.1047\n",
      "Epoch 41/50\n",
      "11/11 [==============================] - 0s 2ms/step - loss: 24.6089 - mse: 24.6089 - val_loss: 30.3185 - val_mse: 30.3185\n",
      "Epoch 42/50\n",
      "11/11 [==============================] - 0s 2ms/step - loss: 24.0804 - mse: 24.0804 - val_loss: 29.7095 - val_mse: 29.7095\n",
      "Epoch 43/50\n",
      "11/11 [==============================] - 0s 2ms/step - loss: 23.6174 - mse: 23.6174 - val_loss: 29.2138 - val_mse: 29.2138\n",
      "Epoch 44/50\n",
      "11/11 [==============================] - 0s 2ms/step - loss: 23.2668 - mse: 23.2668 - val_loss: 28.7202 - val_mse: 28.7202\n",
      "Epoch 45/50\n",
      "11/11 [==============================] - 0s 2ms/step - loss: 22.8979 - mse: 22.8979 - val_loss: 28.1116 - val_mse: 28.1116\n",
      "Epoch 46/50\n",
      "11/11 [==============================] - 0s 2ms/step - loss: 22.5610 - mse: 22.5610 - val_loss: 27.5663 - val_mse: 27.5663\n",
      "Epoch 47/50\n",
      "11/11 [==============================] - 0s 2ms/step - loss: 22.2321 - mse: 22.2321 - val_loss: 27.1191 - val_mse: 27.1191\n",
      "Epoch 48/50\n",
      "11/11 [==============================] - 0s 3ms/step - loss: 21.9447 - mse: 21.9447 - val_loss: 26.8790 - val_mse: 26.8790\n",
      "Epoch 49/50\n",
      "11/11 [==============================] - 0s 2ms/step - loss: 21.6341 - mse: 21.6341 - val_loss: 26.4472 - val_mse: 26.4472\n",
      "Epoch 50/50\n",
      "11/11 [==============================] - 0s 2ms/step - loss: 21.2429 - mse: 21.2429 - val_loss: 26.1978 - val_mse: 26.1978\n"
     ]
    }
   ],
   "source": [
    "# Solution\n",
    "history = model.fit(scaled_X_train, y_train, epochs=50, validation_split = 0.2)"
   ]
  },
  {
   "cell_type": "markdown",
   "metadata": {
    "id": "k23E7F3QDL2W"
   },
   "source": [
    "**[5.2]** Evaluate the performance of this model on the testing set using [.evaluate()](https://www.tensorflow.org/api_docs/python/tf/keras/Model#evaluate)"
   ]
  },
  {
   "cell_type": "code",
   "execution_count": 36,
   "metadata": {
    "id": "5ST_-y4rNLGQ"
   },
   "outputs": [],
   "source": [
    "# Placeholder for student's code (Python code)"
   ]
  },
  {
   "cell_type": "code",
   "execution_count": 37,
   "metadata": {
    "id": "plvRANV9DL9T"
   },
   "outputs": [
    {
     "name": "stdout",
     "output_type": "stream",
     "text": [
      "4/4 [==============================] - 0s 1ms/step - loss: 26.8522 - mse: 26.8522\n"
     ]
    },
    {
     "data": {
      "text/plain": [
       "[26.852231979370117, 26.852231979370117]"
      ]
     },
     "execution_count": 37,
     "metadata": {},
     "output_type": "execute_result"
    }
   ],
   "source": [
    "# Solution\n",
    "model.evaluate(scaled_X_test, y_test)"
   ]
  },
  {
   "cell_type": "markdown",
   "metadata": {
    "id": "_CQvc6Ug11fc"
   },
   "source": [
    "### 6. Analysing the Results"
   ]
  },
  {
   "cell_type": "markdown",
   "metadata": {
    "id": "s-2CoA-UFmSw"
   },
   "source": [
    "**[6.1]** Plot the learning curve for MSE on the training and validation sets. We will use the [.plot()](https://matplotlib.org/3.1.1/api/_as_gen/matplotlib.pyplot.plot.html#matplotlib.pyplot.plot) method to create a line chart."
   ]
  },
  {
   "cell_type": "code",
   "execution_count": 38,
   "metadata": {
    "id": "aRURjwPBVykl"
   },
   "outputs": [],
   "source": [
    "# Placeholder for student's code (Python code)"
   ]
  },
  {
   "cell_type": "code",
   "execution_count": 46,
   "metadata": {
    "id": "OUqGYPBjFmcV",
    "scrolled": true
   },
   "outputs": [
    {
     "data": {
      "image/png": "[encoded data removed]",
      "text/plain": [
       "<Figure size 640x480 with 1 Axes>"
      ]
     },
     "metadata": {},
     "output_type": "display_data"
    }
   ],
   "source": [
    "# Solution\n",
    "plt.plot(history.history['mse'], label='MSE training')\n",
    "plt.plot(history.history['val_mse'], label='MSE validation')\n",
    "plt.legend(loc=\"upper right\")\n",
    "plt.ylabel('MSE')\n",
    "plt.xlabel('Epoch')\n",
    "plt.show()"
   ]
  },
  {
   "cell_type": "markdown",
   "metadata": {
    "id": "y_ZD01Ic11fj"
   },
   "source": [
    "**[6.2]** Using the trained model, predict the outcome of the first observation from the training set\n",
    "\n",
    "Note: This method is expecting the first dimension of the input to be the number of batch (we can provide more than one input) so we need to reshape the input to shape (1, 13) using [.reshape()](https://docs.scipy.org/doc/numpy/reference/generated/numpy.reshape.html)"
   ]
  },
  {
   "cell_type": "code",
   "execution_count": 40,
   "metadata": {
    "id": "0kFSidfPNPAO"
   },
   "outputs": [],
   "source": [
    "# Placeholder for student's code (Python code)"
   ]
  },
  {
   "cell_type": "code",
   "execution_count": 41,
   "metadata": {
    "id": "FlafkOYv11fk",
    "scrolled": true
   },
   "outputs": [
    {
     "name": "stdout",
     "output_type": "stream",
     "text": [
      "1/1 [==============================] - 0s 42ms/step\n"
     ]
    },
    {
     "data": {
      "text/plain": [
       "array([[8.592916]], dtype=float32)"
      ]
     },
     "execution_count": 41,
     "metadata": {},
     "output_type": "execute_result"
    }
   ],
   "source": [
    "# Solution\n",
    "model.predict(scaled_X_test[0].reshape((1, 13)))"
   ]
  },
  {
   "cell_type": "markdown",
   "metadata": {
    "id": "ESXc7JeSheiB"
   },
   "source": [
    "**[6.3]** Compare this with the actual value for this observation"
   ]
  },
  {
   "cell_type": "code",
   "execution_count": 42,
   "metadata": {
    "id": "RvCJDCgkNPa9"
   },
   "outputs": [],
   "source": [
    "# Placeholder for student's code (Python code)"
   ]
  },
  {
   "cell_type": "code",
   "execution_count": 43,
   "metadata": {
    "id": "s29hlrkN11fm"
   },
   "outputs": [
    {
     "data": {
      "text/plain": [
       "7.2"
      ]
     },
     "execution_count": 43,
     "metadata": {},
     "output_type": "execute_result"
    }
   ],
   "source": [
    "# Solution\n",
    "y_test[0]"
   ]
  },
  {
   "cell_type": "markdown",
   "metadata": {
    "id": "CMyZ3APXTfAe"
   },
   "source": [
    "**[6.4]** Save the entire model (architecture and weights)"
   ]
  },
  {
   "cell_type": "code",
   "execution_count": 44,
   "metadata": {
    "id": "SN3ixV_wTfLB"
   },
   "outputs": [],
   "source": [
    "# Placeholder for student's code (Python code)"
   ]
  },
  {
   "cell_type": "code",
   "execution_count": 45,
   "metadata": {
    "id": "m9f3_8wmTfN9"
   },
   "outputs": [
    {
     "name": "stdout",
     "output_type": "stream",
     "text": [
      "INFO:tensorflow:Assets written to: ../models/tf_reg/assets\n"
     ]
    },
    {
     "name": "stderr",
     "output_type": "stream",
     "text": [
      "INFO:tensorflow:Assets written to: ../models/tf_reg/assets\n"
     ]
    }
   ],
   "source": [
    "# Solution\n",
    "model.save('../models/tf_reg')"
   ]
  },
  {
   "cell_type": "markdown",
   "metadata": {
    "id": "QnqPr_7RTEwX",
    "jp-MarkdownHeadingCollapsed": true
   },
   "source": [
    "### 7.   Push changes"
   ]
  },
  {
   "cell_type": "markdown",
   "metadata": {
    "id": "BOjGCR92TFAS"
   },
   "source": [
    "**[7.1]** Add you changes to git staging area"
   ]
  },
  {
   "cell_type": "code",
   "execution_count": null,
   "metadata": {
    "id": "CTZQawFcTFJP"
   },
   "outputs": [],
   "source": [
    "# Placeholder for student's code (command line)"
   ]
  },
  {
   "cell_type": "code",
   "execution_count": null,
   "metadata": {
    "id": "dUT5P4ZDTFMs"
   },
   "outputs": [],
   "source": [
    "# Solution:\n",
    "git add ."
   ]
  },
  {
   "cell_type": "markdown",
   "metadata": {
    "id": "2lKa2w1gUcZ1"
   },
   "source": [
    "**[7.2]** Create the snapshot of your repository and add a description"
   ]
  },
  {
   "cell_type": "code",
   "execution_count": null,
   "metadata": {
    "id": "2qUMtZ8aUcjN"
   },
   "outputs": [],
   "source": [
    "# Placeholder for student's code (command line)"
   ]
  },
  {
   "cell_type": "code",
   "execution_count": null,
   "metadata": {
    "id": "iDYC8n-zUc3i"
   },
   "outputs": [],
   "source": [
    "# Solution:\n",
    "git commit -m \"first tf model\""
   ]
  },
  {
   "cell_type": "markdown",
   "metadata": {
    "id": "HO8LlTlQUdBz"
   },
   "source": [
    "**[7.3]** Push your snapshot to Github"
   ]
  },
  {
   "cell_type": "code",
   "execution_count": null,
   "metadata": {
    "id": "WrzTLkYIUdP7"
   },
   "outputs": [],
   "source": [
    "# Placeholder for student's code (command line)"
   ]
  },
  {
   "cell_type": "code",
   "execution_count": null,
   "metadata": {
    "id": "Xo0HR7GtUdfl"
   },
   "outputs": [],
   "source": [
    "# Solution:\n",
    "git push"
   ]
  },
  {
   "cell_type": "markdown",
   "metadata": {
    "id": "VeBWUqvLUr4X"
   },
   "source": [
    "**[7.4]** Go to Github and merge the branch after reviewing the code and fixing any conflict\n"
   ]
  },
  {
   "cell_type": "markdown",
   "metadata": {
    "id": "7ffIN7OgUdo6"
   },
   "source": [
    "**[7.5]** Check out to the master branch"
   ]
  },
  {
   "cell_type": "code",
   "execution_count": null,
   "metadata": {
    "id": "oJDOo6QtUdzs"
   },
   "outputs": [],
   "source": [
    "# Placeholder for student's code (command line)"
   ]
  },
  {
   "cell_type": "code",
   "execution_count": null,
   "metadata": {
    "id": "lN5hhKHsUeEf"
   },
   "outputs": [],
   "source": [
    "# Solution:\n",
    "git checkout master"
   ]
  },
  {
   "cell_type": "markdown",
   "metadata": {
    "id": "gbcUICO7UeN3"
   },
   "source": [
    "**[7.6]** Pull the latest updates"
   ]
  },
  {
   "cell_type": "code",
   "execution_count": null,
   "metadata": {
    "id": "BWeHLK4MUeX3"
   },
   "outputs": [],
   "source": [
    "# Placeholder for student's code (command line)"
   ]
  },
  {
   "cell_type": "code",
   "execution_count": null,
   "metadata": {
    "id": "IvUTjjWrUenc"
   },
   "outputs": [],
   "source": [
    "# Solution:\n",
    "git pull"
   ]
  },
  {
   "cell_type": "markdown",
   "metadata": {
    "id": "NJjIW_1aUe2e"
   },
   "source": [
    "**[7.7]** Stop the Docker container"
   ]
  },
  {
   "cell_type": "code",
   "execution_count": null,
   "metadata": {
    "id": "qWSNLUMGUfDB"
   },
   "outputs": [],
   "source": [
    "# Placeholder for student's code (command line)"
   ]
  },
  {
   "cell_type": "code",
   "execution_count": null,
   "metadata": {
    "id": "jYFEvgzOUfTp"
   },
   "outputs": [],
   "source": [
    "# Solution:\n",
    "docker stop adv_mla_lab_8"
   ]
  }
 ],
 "metadata": {
  "colab": {
   "provenance": [
    {
     "file_id": "1Yz45Wo6BrHPqtvqSINmp7P1t3EFD40Hd",
     "timestamp": 1647247924739
    }
   ]
  },
  "kernelspec": {
   "display_name": "Python 3 (ipykernel)",
   "language": "python",
   "name": "python3"
  },
  "language_info": {
   "codemirror_mode": {
    "name": "ipython",
    "version": 3
   },
   "file_extension": ".py",
   "mimetype": "text/x-python",
   "name": "python",
   "nbconvert_exporter": "python",
   "pygments_lexer": "ipython3",
   "version": "3.11.4"
  }
 },
 "nbformat": 4,
 "nbformat_minor": 4
}
