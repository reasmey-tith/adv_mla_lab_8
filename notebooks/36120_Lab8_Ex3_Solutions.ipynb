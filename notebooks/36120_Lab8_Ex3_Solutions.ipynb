{
 "cells": [
  {
   "cell_type": "markdown",
   "metadata": {
    "id": "UEKwxPVBF4Kd"
   },
   "source": [
    "# **Lab: Neural Networks**\n",
    "---\n",
    "## Exercise 3: Binary Classification\n",
    "\n",
    "The dataset we will be using is the German Credit Data.\n",
    "\n",
    "The data was originally published by Professor Dr. Hans Hofmann\n",
    "Institut f\"ur Statistik und \"Okonometrie\n",
    "Universit\"at Hamburg\n",
    "FB Wirtschaftswissenschaften\n",
    "Von-Melle-Park 5\n",
    "2000 Hamburg 13\n",
    "\n",
    "It is composed of 20 numerical variables plus the response variable.\n",
    "\n",
    "Each observation represents a single application for a credit for an individual. The features correspond to the financial profile of the applicant.\n",
    "\n",
    "The data dictionary can be found here: [German Credit Data Dictionary](https://archive.ics.uci.edu/ml/machine-learning-databases/statlog/german/german.doc)\n",
    "\n",
    "The original dataset is avalaible from UCI: [German Credit Data](http://archive.ics.uci.edu/ml/datasets/statlog+(german+credit+data))\n",
    "\n",
    "\n",
    "A CSV version of this dataset is avaliable here: [link](https://online.stat.psu.edu/onlinecourses/sites/stat508/files/german_credit.csv)\n",
    "\n",
    "\n",
    "Our goal is to build a Neural Network model that can predict if a new lead is creditworthy or not\n",
    "\n",
    "## Instructions\n",
    "\n",
    "This is a guided exercise where some of the code have already been pre-defined. Your task is to fill the remaining part of the code (it will be highlighted with placehoders) to train and evaluate your model.\n",
    "\n",
    "The steps are:\n",
    "1.   Launch Docker image\n",
    "2.   Loading and Exploration of the Dataset\n",
    "3.   Preparing the Dataset\n",
    "4.   Defining the Architecture of the Multi-Layer Perceptron\n",
    "5.   Training and Evaluation of the Model\n",
    "6.   Analysing the Results\n",
    "7.   Push changes\n",
    "\n",
    "It is recommended to try adding regularization in this exercise with:\n",
    "- [l1/l2 regularizer](https://www.tensorflow.org/api_docs/python/tf/keras/regularizers/Regularizer)\n",
    "- [dropout layer](https://www.tensorflow.org/api_docs/python/tf/keras/layers/Dropout)"
   ]
  },
  {
   "cell_type": "markdown",
   "metadata": {
    "id": "z1uxFpFNZgj-"
   },
   "source": [
    "## Exercise 3"
   ]
  },
  {
   "cell_type": "markdown",
   "metadata": {
    "id": "M-IBvQqxbTA2",
    "jp-MarkdownHeadingCollapsed": true
   },
   "source": [
    "### 1. Launch Docker image"
   ]
  },
  {
   "cell_type": "markdown",
   "metadata": {
    "id": "zlm1n3YObTU3"
   },
   "source": [
    "**[1.1]** Go to the folder you created previously"
   ]
  },
  {
   "cell_type": "code",
   "execution_count": null,
   "metadata": {
    "id": "wErfeK8jbTbI"
   },
   "outputs": [],
   "source": [
    "# Placeholder for student's code (command line)"
   ]
  },
  {
   "cell_type": "code",
   "execution_count": null,
   "metadata": {
    "id": "BaTco_L7bTd-"
   },
   "outputs": [],
   "source": [
    "# Solution:\n",
    "cd /Users/anthonyso/Projects/adv_mla_2024"
   ]
  },
  {
   "cell_type": "markdown",
   "metadata": {
    "id": "RkoGCEXwbesE"
   },
   "source": [
    "**[1.2]** Run the built Docker image"
   ]
  },
  {
   "cell_type": "code",
   "execution_count": null,
   "metadata": {
    "id": "2AwxAspibez9"
   },
   "outputs": [],
   "source": [
    "# Placeholder for student's code (command line)"
   ]
  },
  {
   "cell_type": "code",
   "execution_count": null,
   "metadata": {
    "id": "RnujoVt4be2l"
   },
   "outputs": [],
   "source": [
    "# Solution:\n",
    "docker run  -dit --rm --name adv_mla_lab_8 -p 8888:8888 -v ~/Projects/adv_mla_2024/adv_mla_lab_8:/home/jovyan/work/ tensorflow-jupyter:latest"
   ]
  },
  {
   "cell_type": "markdown",
   "metadata": {
    "id": "vQDO5fUGb5Aw"
   },
   "source": [
    "Syntax: docker run [OPTIONS] IMAGE\n",
    "\n",
    "Options:\n",
    "\n",
    "`-dit: Run container in background and interactive`\n",
    "\n",
    "`--rm: Automatically remove the container when it exits`\n",
    "\n",
    "`--name: Assign a name to the container`\n",
    "\n",
    "`-p: Publish a container's port(s) to the host`\n",
    "\n",
    "`-e: Set environment variables`\n",
    "\n",
    "`-v Bind mount a volume`\n",
    "\n",
    "Documentation: https://docs.docker.com/engine/reference/commandline/run/"
   ]
  },
  {
   "cell_type": "markdown",
   "metadata": {
    "id": "ZITeETo6b2U8"
   },
   "source": [
    "**[1.3]** Display last 50 lines of logs"
   ]
  },
  {
   "cell_type": "code",
   "execution_count": null,
   "metadata": {
    "id": "uhyoxjMLb2el"
   },
   "outputs": [],
   "source": [
    "# Placeholder for student's code (command line)"
   ]
  },
  {
   "cell_type": "code",
   "execution_count": null,
   "metadata": {
    "id": "fXJzn_Xob2hI"
   },
   "outputs": [],
   "source": [
    "# Solution\n",
    "docker logs --tail 50 adv_mla_lab_8"
   ]
  },
  {
   "cell_type": "markdown",
   "metadata": {
    "id": "i5f9JVo9cCR2"
   },
   "source": [
    "Syntax: docker logs [OPTIONS] CONTAINER\n",
    "\n",
    "Options:\n",
    "\n",
    "`--tail: Number of lines to show from the end of the logs`\n",
    "\n",
    "Documentation: https://docs.docker.com/engine/reference/commandline/logs/"
   ]
  },
  {
   "cell_type": "markdown",
   "metadata": {
    "id": "-ls0UfHhcAAB"
   },
   "source": [
    "**[1.4]** Copy the url displayed and paste it to a browser in order to launch Jupyter Lab"
   ]
  },
  {
   "cell_type": "markdown",
   "metadata": {
    "id": "gnBo4iEicKp0"
   },
   "source": [
    "**[1.5]** Create a new git branch called `tf_bin_class`"
   ]
  },
  {
   "cell_type": "code",
   "execution_count": null,
   "metadata": {
    "id": "RToBmRc0cAHe"
   },
   "outputs": [],
   "source": [
    "# Placeholder for student's code (command line)"
   ]
  },
  {
   "cell_type": "code",
   "execution_count": null,
   "metadata": {
    "id": "OUzOs4Q0cAK8"
   },
   "outputs": [],
   "source": [
    "# Solution\n",
    "git checkout -b tf_bin_class"
   ]
  },
  {
   "cell_type": "markdown",
   "metadata": {
    "id": "Xi6A1My4cW_K"
   },
   "source": [
    "**[1.6]** Create a subfolder `models/tf_bin_class`"
   ]
  },
  {
   "cell_type": "code",
   "execution_count": null,
   "metadata": {
    "id": "Bq71auwBcYRT"
   },
   "outputs": [],
   "source": [
    "# Placeholder for student's code (command line)"
   ]
  },
  {
   "cell_type": "code",
   "execution_count": null,
   "metadata": {
    "id": "xtYsrtJkcYT9"
   },
   "outputs": [],
   "source": [
    "# Solution:\n",
    "mkdir models/tf_bin_class"
   ]
  },
  {
   "cell_type": "markdown",
   "metadata": {
    "id": "Sr4j0nOCcfiU"
   },
   "source": [
    "**[1.7]** Navigate the folder `notebooks` and create a new jupyter notebook called `3_tf_binaryclass.ipynb`"
   ]
  },
  {
   "cell_type": "markdown",
   "metadata": {
    "id": "JX32wNTnZn2M"
   },
   "source": [
    "### 2. Loading and Exploration of the Dataset"
   ]
  },
  {
   "cell_type": "markdown",
   "metadata": {
    "id": "7iXGGDFL--Ug"
   },
   "source": [
    "**[2.1]** Import the package pandas"
   ]
  },
  {
   "cell_type": "code",
   "execution_count": null,
   "metadata": {
    "id": "YD6hXBObeIf-"
   },
   "outputs": [],
   "source": [
    "# Placeholder for student's code"
   ]
  },
  {
   "cell_type": "code",
   "execution_count": 1,
   "metadata": {
    "id": "5EAK2RzX2KWz"
   },
   "outputs": [],
   "source": [
    "# Solution\n",
    "import pandas as pd"
   ]
  },
  {
   "cell_type": "markdown",
   "metadata": {
    "id": "5zAaT0GZ_RCG"
   },
   "source": [
    "**[2.2]** Load the CSV file using [.read_csv()](https://pandas.pydata.org/pandas-docs/stable/reference/api/pandas.read_csv.html) into a variable called `df`"
   ]
  },
  {
   "cell_type": "code",
   "execution_count": 2,
   "metadata": {
    "id": "bdaZG3Qs_ROs"
   },
   "outputs": [],
   "source": [
    "# Placeholder for student's code"
   ]
  },
  {
   "cell_type": "code",
   "execution_count": 19,
   "metadata": {
    "id": "CCBV7r8w2KW5"
   },
   "outputs": [],
   "source": [
    "# Solution \n",
    "df = pd.read_csv(\"../data/raw/german_credit.csv\")"
   ]
  },
  {
   "cell_type": "markdown",
   "metadata": {
    "id": "fNZRfzzA_pnw"
   },
   "source": [
    "**[2.3]** Explore the first rows of the dataframe using [.head()](https://pandas.pydata.org/pandas-docs/stable/reference/api/pandas.DataFrame.head.html?highlight=head#pandas.DataFrame.head)"
   ]
  },
  {
   "cell_type": "code",
   "execution_count": null,
   "metadata": {
    "id": "vsCEhxqf_pw6"
   },
   "outputs": [],
   "source": [
    "# Placeholder for student's code"
   ]
  },
  {
   "cell_type": "code",
   "execution_count": 20,
   "metadata": {
    "id": "CDxeIkm22KW-"
   },
   "outputs": [
    {
     "data": {
      "text/html": [
       "<div>\n",
       "<style scoped>\n",
       "    .dataframe tbody tr th:only-of-type {\n",
       "        vertical-align: middle;\n",
       "    }\n",
       "\n",
       "    .dataframe tbody tr th {\n",
       "        vertical-align: top;\n",
       "    }\n",
       "\n",
       "    .dataframe thead th {\n",
       "        text-align: right;\n",
       "    }\n",
       "</style>\n",
       "<table border=\"1\" class=\"dataframe\">\n",
       "  <thead>\n",
       "    <tr style=\"text-align: right;\">\n",
       "      <th></th>\n",
       "      <th>Creditability</th>\n",
       "      <th>Account Balance</th>\n",
       "      <th>Duration of Credit (month)</th>\n",
       "      <th>Payment Status of Previous Credit</th>\n",
       "      <th>Purpose</th>\n",
       "      <th>Credit Amount</th>\n",
       "      <th>Value Savings/Stocks</th>\n",
       "      <th>Length of current employment</th>\n",
       "      <th>Instalment per cent</th>\n",
       "      <th>Sex &amp; Marital Status</th>\n",
       "      <th>...</th>\n",
       "      <th>Duration in Current address</th>\n",
       "      <th>Most valuable available asset</th>\n",
       "      <th>Age (years)</th>\n",
       "      <th>Concurrent Credits</th>\n",
       "      <th>Type of apartment</th>\n",
       "      <th>No of Credits at this Bank</th>\n",
       "      <th>Occupation</th>\n",
       "      <th>No of dependents</th>\n",
       "      <th>Telephone</th>\n",
       "      <th>Foreign Worker</th>\n",
       "    </tr>\n",
       "  </thead>\n",
       "  <tbody>\n",
       "    <tr>\n",
       "      <th>0</th>\n",
       "      <td>1</td>\n",
       "      <td>1</td>\n",
       "      <td>18</td>\n",
       "      <td>4</td>\n",
       "      <td>2</td>\n",
       "      <td>1049</td>\n",
       "      <td>1</td>\n",
       "      <td>2</td>\n",
       "      <td>4</td>\n",
       "      <td>2</td>\n",
       "      <td>...</td>\n",
       "      <td>4</td>\n",
       "      <td>2</td>\n",
       "      <td>21</td>\n",
       "      <td>3</td>\n",
       "      <td>1</td>\n",
       "      <td>1</td>\n",
       "      <td>3</td>\n",
       "      <td>1</td>\n",
       "      <td>1</td>\n",
       "      <td>1</td>\n",
       "    </tr>\n",
       "    <tr>\n",
       "      <th>1</th>\n",
       "      <td>1</td>\n",
       "      <td>1</td>\n",
       "      <td>9</td>\n",
       "      <td>4</td>\n",
       "      <td>0</td>\n",
       "      <td>2799</td>\n",
       "      <td>1</td>\n",
       "      <td>3</td>\n",
       "      <td>2</td>\n",
       "      <td>3</td>\n",
       "      <td>...</td>\n",
       "      <td>2</td>\n",
       "      <td>1</td>\n",
       "      <td>36</td>\n",
       "      <td>3</td>\n",
       "      <td>1</td>\n",
       "      <td>2</td>\n",
       "      <td>3</td>\n",
       "      <td>2</td>\n",
       "      <td>1</td>\n",
       "      <td>1</td>\n",
       "    </tr>\n",
       "    <tr>\n",
       "      <th>2</th>\n",
       "      <td>1</td>\n",
       "      <td>2</td>\n",
       "      <td>12</td>\n",
       "      <td>2</td>\n",
       "      <td>9</td>\n",
       "      <td>841</td>\n",
       "      <td>2</td>\n",
       "      <td>4</td>\n",
       "      <td>2</td>\n",
       "      <td>2</td>\n",
       "      <td>...</td>\n",
       "      <td>4</td>\n",
       "      <td>1</td>\n",
       "      <td>23</td>\n",
       "      <td>3</td>\n",
       "      <td>1</td>\n",
       "      <td>1</td>\n",
       "      <td>2</td>\n",
       "      <td>1</td>\n",
       "      <td>1</td>\n",
       "      <td>1</td>\n",
       "    </tr>\n",
       "    <tr>\n",
       "      <th>3</th>\n",
       "      <td>1</td>\n",
       "      <td>1</td>\n",
       "      <td>12</td>\n",
       "      <td>4</td>\n",
       "      <td>0</td>\n",
       "      <td>2122</td>\n",
       "      <td>1</td>\n",
       "      <td>3</td>\n",
       "      <td>3</td>\n",
       "      <td>3</td>\n",
       "      <td>...</td>\n",
       "      <td>2</td>\n",
       "      <td>1</td>\n",
       "      <td>39</td>\n",
       "      <td>3</td>\n",
       "      <td>1</td>\n",
       "      <td>2</td>\n",
       "      <td>2</td>\n",
       "      <td>2</td>\n",
       "      <td>1</td>\n",
       "      <td>2</td>\n",
       "    </tr>\n",
       "    <tr>\n",
       "      <th>4</th>\n",
       "      <td>1</td>\n",
       "      <td>1</td>\n",
       "      <td>12</td>\n",
       "      <td>4</td>\n",
       "      <td>0</td>\n",
       "      <td>2171</td>\n",
       "      <td>1</td>\n",
       "      <td>3</td>\n",
       "      <td>4</td>\n",
       "      <td>3</td>\n",
       "      <td>...</td>\n",
       "      <td>4</td>\n",
       "      <td>2</td>\n",
       "      <td>38</td>\n",
       "      <td>1</td>\n",
       "      <td>2</td>\n",
       "      <td>2</td>\n",
       "      <td>2</td>\n",
       "      <td>1</td>\n",
       "      <td>1</td>\n",
       "      <td>2</td>\n",
       "    </tr>\n",
       "  </tbody>\n",
       "</table>\n",
       "<p>5 rows × 21 columns</p>\n",
       "</div>"
      ],
      "text/plain": [
       "   Creditability  Account Balance  Duration of Credit (month)  \\\n",
       "0              1                1                          18   \n",
       "1              1                1                           9   \n",
       "2              1                2                          12   \n",
       "3              1                1                          12   \n",
       "4              1                1                          12   \n",
       "\n",
       "   Payment Status of Previous Credit  Purpose  Credit Amount  \\\n",
       "0                                  4        2           1049   \n",
       "1                                  4        0           2799   \n",
       "2                                  2        9            841   \n",
       "3                                  4        0           2122   \n",
       "4                                  4        0           2171   \n",
       "\n",
       "   Value Savings/Stocks  Length of current employment  Instalment per cent  \\\n",
       "0                     1                             2                    4   \n",
       "1                     1                             3                    2   \n",
       "2                     2                             4                    2   \n",
       "3                     1                             3                    3   \n",
       "4                     1                             3                    4   \n",
       "\n",
       "   Sex & Marital Status  ...  Duration in Current address  \\\n",
       "0                     2  ...                            4   \n",
       "1                     3  ...                            2   \n",
       "2                     2  ...                            4   \n",
       "3                     3  ...                            2   \n",
       "4                     3  ...                            4   \n",
       "\n",
       "   Most valuable available asset  Age (years)  Concurrent Credits  \\\n",
       "0                              2           21                   3   \n",
       "1                              1           36                   3   \n",
       "2                              1           23                   3   \n",
       "3                              1           39                   3   \n",
       "4                              2           38                   1   \n",
       "\n",
       "   Type of apartment  No of Credits at this Bank  Occupation  \\\n",
       "0                  1                           1           3   \n",
       "1                  1                           2           3   \n",
       "2                  1                           1           2   \n",
       "3                  1                           2           2   \n",
       "4                  2                           2           2   \n",
       "\n",
       "   No of dependents  Telephone  Foreign Worker  \n",
       "0                 1          1               1  \n",
       "1                 2          1               1  \n",
       "2                 1          1               1  \n",
       "3                 2          1               2  \n",
       "4                 1          1               2  \n",
       "\n",
       "[5 rows x 21 columns]"
      ]
     },
     "execution_count": 20,
     "metadata": {},
     "output_type": "execute_result"
    }
   ],
   "source": [
    "# Solution\n",
    "df.head()"
   ]
  },
  {
   "cell_type": "markdown",
   "metadata": {
    "id": "mIs5UjunAKoW"
   },
   "source": [
    "**[2.4]** Print out at the descriptive statistics for the numerical variables using[.describe()](https://pandas.pydata.org/pandas-docs/stable/reference/api/pandas.DataFrame.describe.html?highlight=describe#pandas.DataFrame.describe)"
   ]
  },
  {
   "cell_type": "code",
   "execution_count": null,
   "metadata": {
    "id": "tCBTWffRAKtp"
   },
   "outputs": [],
   "source": [
    "# Placeholder for student's code"
   ]
  },
  {
   "cell_type": "code",
   "execution_count": 21,
   "metadata": {
    "id": "dJ-lakUt2KXE"
   },
   "outputs": [
    {
     "data": {
      "text/html": [
       "<div>\n",
       "<style scoped>\n",
       "    .dataframe tbody tr th:only-of-type {\n",
       "        vertical-align: middle;\n",
       "    }\n",
       "\n",
       "    .dataframe tbody tr th {\n",
       "        vertical-align: top;\n",
       "    }\n",
       "\n",
       "    .dataframe thead th {\n",
       "        text-align: right;\n",
       "    }\n",
       "</style>\n",
       "<table border=\"1\" class=\"dataframe\">\n",
       "  <thead>\n",
       "    <tr style=\"text-align: right;\">\n",
       "      <th></th>\n",
       "      <th>Creditability</th>\n",
       "      <th>Account Balance</th>\n",
       "      <th>Duration of Credit (month)</th>\n",
       "      <th>Payment Status of Previous Credit</th>\n",
       "      <th>Purpose</th>\n",
       "      <th>Credit Amount</th>\n",
       "      <th>Value Savings/Stocks</th>\n",
       "      <th>Length of current employment</th>\n",
       "      <th>Instalment per cent</th>\n",
       "      <th>Sex &amp; Marital Status</th>\n",
       "      <th>...</th>\n",
       "      <th>Duration in Current address</th>\n",
       "      <th>Most valuable available asset</th>\n",
       "      <th>Age (years)</th>\n",
       "      <th>Concurrent Credits</th>\n",
       "      <th>Type of apartment</th>\n",
       "      <th>No of Credits at this Bank</th>\n",
       "      <th>Occupation</th>\n",
       "      <th>No of dependents</th>\n",
       "      <th>Telephone</th>\n",
       "      <th>Foreign Worker</th>\n",
       "    </tr>\n",
       "  </thead>\n",
       "  <tbody>\n",
       "    <tr>\n",
       "      <th>count</th>\n",
       "      <td>1000.000000</td>\n",
       "      <td>1000.000000</td>\n",
       "      <td>1000.000000</td>\n",
       "      <td>1000.00000</td>\n",
       "      <td>1000.000000</td>\n",
       "      <td>1000.00000</td>\n",
       "      <td>1000.000000</td>\n",
       "      <td>1000.000000</td>\n",
       "      <td>1000.000000</td>\n",
       "      <td>1000.00000</td>\n",
       "      <td>...</td>\n",
       "      <td>1000.000000</td>\n",
       "      <td>1000.000000</td>\n",
       "      <td>1000.00000</td>\n",
       "      <td>1000.000000</td>\n",
       "      <td>1000.000000</td>\n",
       "      <td>1000.000000</td>\n",
       "      <td>1000.000000</td>\n",
       "      <td>1000.000000</td>\n",
       "      <td>1000.000000</td>\n",
       "      <td>1000.000000</td>\n",
       "    </tr>\n",
       "    <tr>\n",
       "      <th>mean</th>\n",
       "      <td>0.700000</td>\n",
       "      <td>2.577000</td>\n",
       "      <td>20.903000</td>\n",
       "      <td>2.54500</td>\n",
       "      <td>2.828000</td>\n",
       "      <td>3271.24800</td>\n",
       "      <td>2.105000</td>\n",
       "      <td>3.384000</td>\n",
       "      <td>2.973000</td>\n",
       "      <td>2.68200</td>\n",
       "      <td>...</td>\n",
       "      <td>2.845000</td>\n",
       "      <td>2.358000</td>\n",
       "      <td>35.54200</td>\n",
       "      <td>2.675000</td>\n",
       "      <td>1.928000</td>\n",
       "      <td>1.407000</td>\n",
       "      <td>2.904000</td>\n",
       "      <td>1.155000</td>\n",
       "      <td>1.404000</td>\n",
       "      <td>1.037000</td>\n",
       "    </tr>\n",
       "    <tr>\n",
       "      <th>std</th>\n",
       "      <td>0.458487</td>\n",
       "      <td>1.257638</td>\n",
       "      <td>12.058814</td>\n",
       "      <td>1.08312</td>\n",
       "      <td>2.744439</td>\n",
       "      <td>2822.75176</td>\n",
       "      <td>1.580023</td>\n",
       "      <td>1.208306</td>\n",
       "      <td>1.118715</td>\n",
       "      <td>0.70808</td>\n",
       "      <td>...</td>\n",
       "      <td>1.103718</td>\n",
       "      <td>1.050209</td>\n",
       "      <td>11.35267</td>\n",
       "      <td>0.705601</td>\n",
       "      <td>0.530186</td>\n",
       "      <td>0.577654</td>\n",
       "      <td>0.653614</td>\n",
       "      <td>0.362086</td>\n",
       "      <td>0.490943</td>\n",
       "      <td>0.188856</td>\n",
       "    </tr>\n",
       "    <tr>\n",
       "      <th>min</th>\n",
       "      <td>0.000000</td>\n",
       "      <td>1.000000</td>\n",
       "      <td>4.000000</td>\n",
       "      <td>0.00000</td>\n",
       "      <td>0.000000</td>\n",
       "      <td>250.00000</td>\n",
       "      <td>1.000000</td>\n",
       "      <td>1.000000</td>\n",
       "      <td>1.000000</td>\n",
       "      <td>1.00000</td>\n",
       "      <td>...</td>\n",
       "      <td>1.000000</td>\n",
       "      <td>1.000000</td>\n",
       "      <td>19.00000</td>\n",
       "      <td>1.000000</td>\n",
       "      <td>1.000000</td>\n",
       "      <td>1.000000</td>\n",
       "      <td>1.000000</td>\n",
       "      <td>1.000000</td>\n",
       "      <td>1.000000</td>\n",
       "      <td>1.000000</td>\n",
       "    </tr>\n",
       "    <tr>\n",
       "      <th>25%</th>\n",
       "      <td>0.000000</td>\n",
       "      <td>1.000000</td>\n",
       "      <td>12.000000</td>\n",
       "      <td>2.00000</td>\n",
       "      <td>1.000000</td>\n",
       "      <td>1365.50000</td>\n",
       "      <td>1.000000</td>\n",
       "      <td>3.000000</td>\n",
       "      <td>2.000000</td>\n",
       "      <td>2.00000</td>\n",
       "      <td>...</td>\n",
       "      <td>2.000000</td>\n",
       "      <td>1.000000</td>\n",
       "      <td>27.00000</td>\n",
       "      <td>3.000000</td>\n",
       "      <td>2.000000</td>\n",
       "      <td>1.000000</td>\n",
       "      <td>3.000000</td>\n",
       "      <td>1.000000</td>\n",
       "      <td>1.000000</td>\n",
       "      <td>1.000000</td>\n",
       "    </tr>\n",
       "    <tr>\n",
       "      <th>50%</th>\n",
       "      <td>1.000000</td>\n",
       "      <td>2.000000</td>\n",
       "      <td>18.000000</td>\n",
       "      <td>2.00000</td>\n",
       "      <td>2.000000</td>\n",
       "      <td>2319.50000</td>\n",
       "      <td>1.000000</td>\n",
       "      <td>3.000000</td>\n",
       "      <td>3.000000</td>\n",
       "      <td>3.00000</td>\n",
       "      <td>...</td>\n",
       "      <td>3.000000</td>\n",
       "      <td>2.000000</td>\n",
       "      <td>33.00000</td>\n",
       "      <td>3.000000</td>\n",
       "      <td>2.000000</td>\n",
       "      <td>1.000000</td>\n",
       "      <td>3.000000</td>\n",
       "      <td>1.000000</td>\n",
       "      <td>1.000000</td>\n",
       "      <td>1.000000</td>\n",
       "    </tr>\n",
       "    <tr>\n",
       "      <th>75%</th>\n",
       "      <td>1.000000</td>\n",
       "      <td>4.000000</td>\n",
       "      <td>24.000000</td>\n",
       "      <td>4.00000</td>\n",
       "      <td>3.000000</td>\n",
       "      <td>3972.25000</td>\n",
       "      <td>3.000000</td>\n",
       "      <td>5.000000</td>\n",
       "      <td>4.000000</td>\n",
       "      <td>3.00000</td>\n",
       "      <td>...</td>\n",
       "      <td>4.000000</td>\n",
       "      <td>3.000000</td>\n",
       "      <td>42.00000</td>\n",
       "      <td>3.000000</td>\n",
       "      <td>2.000000</td>\n",
       "      <td>2.000000</td>\n",
       "      <td>3.000000</td>\n",
       "      <td>1.000000</td>\n",
       "      <td>2.000000</td>\n",
       "      <td>1.000000</td>\n",
       "    </tr>\n",
       "    <tr>\n",
       "      <th>max</th>\n",
       "      <td>1.000000</td>\n",
       "      <td>4.000000</td>\n",
       "      <td>72.000000</td>\n",
       "      <td>4.00000</td>\n",
       "      <td>10.000000</td>\n",
       "      <td>18424.00000</td>\n",
       "      <td>5.000000</td>\n",
       "      <td>5.000000</td>\n",
       "      <td>4.000000</td>\n",
       "      <td>4.00000</td>\n",
       "      <td>...</td>\n",
       "      <td>4.000000</td>\n",
       "      <td>4.000000</td>\n",
       "      <td>75.00000</td>\n",
       "      <td>3.000000</td>\n",
       "      <td>3.000000</td>\n",
       "      <td>4.000000</td>\n",
       "      <td>4.000000</td>\n",
       "      <td>2.000000</td>\n",
       "      <td>2.000000</td>\n",
       "      <td>2.000000</td>\n",
       "    </tr>\n",
       "  </tbody>\n",
       "</table>\n",
       "<p>8 rows × 21 columns</p>\n",
       "</div>"
      ],
      "text/plain": [
       "       Creditability  Account Balance  Duration of Credit (month)  \\\n",
       "count    1000.000000      1000.000000                 1000.000000   \n",
       "mean        0.700000         2.577000                   20.903000   \n",
       "std         0.458487         1.257638                   12.058814   \n",
       "min         0.000000         1.000000                    4.000000   \n",
       "25%         0.000000         1.000000                   12.000000   \n",
       "50%         1.000000         2.000000                   18.000000   \n",
       "75%         1.000000         4.000000                   24.000000   \n",
       "max         1.000000         4.000000                   72.000000   \n",
       "\n",
       "       Payment Status of Previous Credit      Purpose  Credit Amount  \\\n",
       "count                         1000.00000  1000.000000     1000.00000   \n",
       "mean                             2.54500     2.828000     3271.24800   \n",
       "std                              1.08312     2.744439     2822.75176   \n",
       "min                              0.00000     0.000000      250.00000   \n",
       "25%                              2.00000     1.000000     1365.50000   \n",
       "50%                              2.00000     2.000000     2319.50000   \n",
       "75%                              4.00000     3.000000     3972.25000   \n",
       "max                              4.00000    10.000000    18424.00000   \n",
       "\n",
       "       Value Savings/Stocks  Length of current employment  \\\n",
       "count           1000.000000                   1000.000000   \n",
       "mean               2.105000                      3.384000   \n",
       "std                1.580023                      1.208306   \n",
       "min                1.000000                      1.000000   \n",
       "25%                1.000000                      3.000000   \n",
       "50%                1.000000                      3.000000   \n",
       "75%                3.000000                      5.000000   \n",
       "max                5.000000                      5.000000   \n",
       "\n",
       "       Instalment per cent  Sex & Marital Status  ...  \\\n",
       "count          1000.000000            1000.00000  ...   \n",
       "mean              2.973000               2.68200  ...   \n",
       "std               1.118715               0.70808  ...   \n",
       "min               1.000000               1.00000  ...   \n",
       "25%               2.000000               2.00000  ...   \n",
       "50%               3.000000               3.00000  ...   \n",
       "75%               4.000000               3.00000  ...   \n",
       "max               4.000000               4.00000  ...   \n",
       "\n",
       "       Duration in Current address  Most valuable available asset  \\\n",
       "count                  1000.000000                    1000.000000   \n",
       "mean                      2.845000                       2.358000   \n",
       "std                       1.103718                       1.050209   \n",
       "min                       1.000000                       1.000000   \n",
       "25%                       2.000000                       1.000000   \n",
       "50%                       3.000000                       2.000000   \n",
       "75%                       4.000000                       3.000000   \n",
       "max                       4.000000                       4.000000   \n",
       "\n",
       "       Age (years)  Concurrent Credits  Type of apartment  \\\n",
       "count   1000.00000         1000.000000        1000.000000   \n",
       "mean      35.54200            2.675000           1.928000   \n",
       "std       11.35267            0.705601           0.530186   \n",
       "min       19.00000            1.000000           1.000000   \n",
       "25%       27.00000            3.000000           2.000000   \n",
       "50%       33.00000            3.000000           2.000000   \n",
       "75%       42.00000            3.000000           2.000000   \n",
       "max       75.00000            3.000000           3.000000   \n",
       "\n",
       "       No of Credits at this Bank   Occupation  No of dependents    Telephone  \\\n",
       "count                 1000.000000  1000.000000       1000.000000  1000.000000   \n",
       "mean                     1.407000     2.904000          1.155000     1.404000   \n",
       "std                      0.577654     0.653614          0.362086     0.490943   \n",
       "min                      1.000000     1.000000          1.000000     1.000000   \n",
       "25%                      1.000000     3.000000          1.000000     1.000000   \n",
       "50%                      1.000000     3.000000          1.000000     1.000000   \n",
       "75%                      2.000000     3.000000          1.000000     2.000000   \n",
       "max                      4.000000     4.000000          2.000000     2.000000   \n",
       "\n",
       "       Foreign Worker  \n",
       "count     1000.000000  \n",
       "mean         1.037000  \n",
       "std          0.188856  \n",
       "min          1.000000  \n",
       "25%          1.000000  \n",
       "50%          1.000000  \n",
       "75%          1.000000  \n",
       "max          2.000000  \n",
       "\n",
       "[8 rows x 21 columns]"
      ]
     },
     "execution_count": 21,
     "metadata": {},
     "output_type": "execute_result"
    }
   ],
   "source": [
    "# Solution\n",
    "df.describe()"
   ]
  },
  {
   "cell_type": "markdown",
   "metadata": {
    "id": "MpiFy-jPAnqQ"
   },
   "source": [
    "**[2.5]** Plot the distribution of the target variable using [.hist()](https://matplotlib.org/3.2.0/api/_as_gen/matplotlib.pyplot.hist.html) and [.show()](https://matplotlib.org/3.2.0/api/_as_gen/matplotlib.pyplot.show.html?highlight=show#matplotlib.pyplot.show) from matplotlib"
   ]
  },
  {
   "cell_type": "code",
   "execution_count": null,
   "metadata": {
    "id": "-WMtLMZ-AnxO"
   },
   "outputs": [],
   "source": [
    "# Placeholder for student's code"
   ]
  },
  {
   "cell_type": "code",
   "execution_count": 22,
   "metadata": {
    "id": "mwUF1S0w2KXJ"
   },
   "outputs": [
    {
     "data": {
      "image/png": "[encoded data removed]",
      "text/plain": [
       "<Figure size 640x480 with 1 Axes>"
      ]
     },
     "metadata": {},
     "output_type": "display_data"
    }
   ],
   "source": [
    "# Solution\n",
    "import matplotlib.pyplot as plt\n",
    "plt.hist(df['Creditability'])\n",
    "plt.show()"
   ]
  },
  {
   "cell_type": "markdown",
   "metadata": {
    "id": "rs2UQxI5j7Jz"
   },
   "source": [
    "### 3.   Preparing the Dataset"
   ]
  },
  {
   "cell_type": "markdown",
   "metadata": {
    "id": "v1Pzv7eQDngH"
   },
   "source": [
    "**[3.1]** Extract the target variable `Creditability` using [.pop()](https://pandas.pydata.org/pandas-docs/stable/reference/api/pandas.DataFrame.pop.html?highlight=pop#pandas.DataFrame.pop) into a variable called `y`"
   ]
  },
  {
   "cell_type": "code",
   "execution_count": 23,
   "metadata": {
    "id": "W6mdhRQVDnqk"
   },
   "outputs": [],
   "source": [
    "# Placeholder for student's code"
   ]
  },
  {
   "cell_type": "code",
   "execution_count": 24,
   "metadata": {
    "id": "McST7NeT2KXP"
   },
   "outputs": [],
   "source": [
    "# Solution\n",
    "y = df.pop('Creditability')"
   ]
  },
  {
   "cell_type": "markdown",
   "metadata": {
    "id": "hFzYlfOwE3i3"
   },
   "source": [
    "**[3.2]** Import the [train_test_split()](https://scikit-learn.org/stable/modules/generated/sklearn.model_selection.train_test_split.html) from sklearn\n"
   ]
  },
  {
   "cell_type": "code",
   "execution_count": 25,
   "metadata": {
    "id": "v0wE2-8JeDrp"
   },
   "outputs": [],
   "source": [
    "# Placeholder for student's code"
   ]
  },
  {
   "cell_type": "code",
   "execution_count": 26,
   "metadata": {
    "id": "ukRa1LWS2KXU"
   },
   "outputs": [],
   "source": [
    "# Solution\n",
    "from sklearn.model_selection import train_test_split"
   ]
  },
  {
   "cell_type": "markdown",
   "metadata": {
    "id": "GqLoMHzQE4G9"
   },
   "source": [
    "**[3.3]** Split the data into training and testing sets using a 80/20 ratio with [train_test_split()](https://scikit-learn.org/stable/modules/generated/sklearn.model_selection.train_test_split.html) from sklearn"
   ]
  },
  {
   "cell_type": "code",
   "execution_count": 27,
   "metadata": {
    "id": "M6NN7K09FPqs"
   },
   "outputs": [],
   "source": [
    "# Placeholder for student's code"
   ]
  },
  {
   "cell_type": "code",
   "execution_count": 28,
   "metadata": {
    "id": "A8hurdiH2KXY"
   },
   "outputs": [],
   "source": [
    "# Solution\n",
    "X_train, X_test, y_train, y_test =  train_test_split(df, y, test_size=0.2, random_state=8)"
   ]
  },
  {
   "cell_type": "markdown",
   "metadata": {
    "id": "peAS-sVyG4fM"
   },
   "source": [
    "**[3.4]** Print out at the dimensions of the 4 variables you created"
   ]
  },
  {
   "cell_type": "code",
   "execution_count": 29,
   "metadata": {
    "id": "xFnp-c3eG4n3"
   },
   "outputs": [],
   "source": [
    "# Placeholder for student's code"
   ]
  },
  {
   "cell_type": "code",
   "execution_count": 30,
   "metadata": {
    "id": "wZmKtWrc2KXc"
   },
   "outputs": [
    {
     "name": "stdout",
     "output_type": "stream",
     "text": [
      "(800, 20)\n",
      "(200, 20)\n",
      "(800,)\n",
      "(200,)\n"
     ]
    }
   ],
   "source": [
    "# Solution\n",
    "print(X_train.shape)\n",
    "print(X_test.shape)\n",
    "print(y_train.shape)\n",
    "print(y_test.shape)"
   ]
  },
  {
   "cell_type": "markdown",
   "metadata": {
    "id": "zrnCjzYKHc3J"
   },
   "source": [
    "**[3.5]** Import [scale()](https://scikit-learn.org/stable/modules/generated/sklearn.preprocessing.scale.html?highlight=scale#sklearn.preprocessing.scale) from sklearn\n"
   ]
  },
  {
   "cell_type": "code",
   "execution_count": 31,
   "metadata": {
    "id": "f8OAg6MAeBb8"
   },
   "outputs": [],
   "source": [
    "# Placeholder for student's code"
   ]
  },
  {
   "cell_type": "code",
   "execution_count": 32,
   "metadata": {
    "id": "hqMtO6DyHd5P"
   },
   "outputs": [],
   "source": [
    "# Solution\n",
    "from sklearn.preprocessing import scale"
   ]
  },
  {
   "cell_type": "markdown",
   "metadata": {
    "id": "_cI9DNAKH5py"
   },
   "source": [
    "**[3.6]** Perform standardisation on the training and testing sets using [scale()](https://scikit-learn.org/stable/modules/generated/sklearn.preprocessing.scale.html?highlight=scale#sklearn.preprocessing.scale) from sklearn"
   ]
  },
  {
   "cell_type": "code",
   "execution_count": 33,
   "metadata": {
    "id": "AfZ0OqMuH5w6"
   },
   "outputs": [],
   "source": [
    "# Placeholder for student's code"
   ]
  },
  {
   "cell_type": "code",
   "execution_count": 34,
   "metadata": {
    "id": "lGywxAAWkN9G"
   },
   "outputs": [],
   "source": [
    "# Solution\n",
    "scaled_X_train = scale(X_train)\n",
    "scaled_X_test = scale(X_test)"
   ]
  },
  {
   "cell_type": "markdown",
   "metadata": {
    "id": "V3IaeUq0oq3v"
   },
   "source": [
    "**[3.7]** Print the scaled values of the first observation of the training set"
   ]
  },
  {
   "cell_type": "code",
   "execution_count": 35,
   "metadata": {
    "id": "p0m1o7vgeAwM"
   },
   "outputs": [],
   "source": [
    "# Placeholder for student's code"
   ]
  },
  {
   "cell_type": "code",
   "execution_count": 36,
   "metadata": {
    "id": "LKOxtSEroq8y"
   },
   "outputs": [
    {
     "name": "stdout",
     "output_type": "stream",
     "text": [
      "[-1.23146348  1.00545805  1.36798424 -0.30099193  0.32865798  0.57514249\n",
      " -0.30732498 -1.71451695 -0.98883806 -0.3040227   1.0606442   0.60675358\n",
      " -1.09202537  0.46460993  0.16385435  1.06145721  0.17740144 -0.43033148\n",
      " -0.81649658 -0.20077872]\n"
     ]
    }
   ],
   "source": [
    "# Solution\n",
    "print(scaled_X_train[0])"
   ]
  },
  {
   "cell_type": "markdown",
   "metadata": {
    "id": "iZlqLo9xAGPP"
   },
   "source": [
    "### 4.   Defining the Architecture of the Multi-Layer Perceptron"
   ]
  },
  {
   "cell_type": "markdown",
   "metadata": {
    "id": "Mw6cKtJVIi7D"
   },
   "source": [
    "**[4.1]** Import tensorflow and numpy"
   ]
  },
  {
   "cell_type": "code",
   "execution_count": 37,
   "metadata": {
    "id": "CsBkcDxKhYEH"
   },
   "outputs": [],
   "source": [
    "# Placeholder for student's code"
   ]
  },
  {
   "cell_type": "code",
   "execution_count": 38,
   "metadata": {
    "id": "FsrY6FStAFTK"
   },
   "outputs": [],
   "source": [
    "# Solution\n",
    "import tensorflow as tf\n",
    "import numpy as np"
   ]
  },
  {
   "cell_type": "markdown",
   "metadata": {
    "id": "B2slfGF2IqIt"
   },
   "source": [
    "**[4.2]** Set the seeds for tensorflow and numpy in order to get reproducible results"
   ]
  },
  {
   "cell_type": "code",
   "execution_count": 39,
   "metadata": {
    "id": "0bX-LwDYd9h8"
   },
   "outputs": [],
   "source": [
    "# Placeholder for student's code"
   ]
  },
  {
   "cell_type": "code",
   "execution_count": 40,
   "metadata": {
    "id": "fvra9IKiAZc6"
   },
   "outputs": [],
   "source": [
    "# Solution\n",
    "tf.random.set_seed(42)"
   ]
  },
  {
   "cell_type": "markdown",
   "metadata": {
    "id": "vFH9xYa_IsGD"
   },
   "source": [
    "**[4.3]** Create a l1 and l2 regulariser using [l1_l2](https://www.tensorflow.org/api_docs/python/tf/keras/regularizers/L1L2) and save it into a variable called `regularizer`"
   ]
  },
  {
   "cell_type": "code",
   "execution_count": 41,
   "metadata": {
    "id": "1AZV2RkGIsR4"
   },
   "outputs": [],
   "source": [
    "# Placeholder for student's code"
   ]
  },
  {
   "cell_type": "code",
   "execution_count": 42,
   "metadata": {
    "id": "mTTXC_GY2KX2"
   },
   "outputs": [],
   "source": [
    "# Solution\n",
    "regularizer = tf.keras.regularizers.l1_l2(l1=0.01, l2=0.01)"
   ]
  },
  {
   "cell_type": "markdown",
   "metadata": {
    "id": "56q3hY6rIlrO"
   },
   "source": [
    "**[4.4]** Instantiate a [.Sequential()](https://www.tensorflow.org/api_docs/python/tf/keras/Sequential) class called `model`"
   ]
  },
  {
   "cell_type": "code",
   "execution_count": 43,
   "metadata": {
    "id": "lzpeau-aJT49"
   },
   "outputs": [],
   "source": [
    "# Placeholder for student's code"
   ]
  },
  {
   "cell_type": "code",
   "execution_count": 44,
   "metadata": {
    "id": "eYzblBoMJT77"
   },
   "outputs": [],
   "source": [
    "# Solution\n",
    "model = tf.keras.Sequential()"
   ]
  },
  {
   "cell_type": "markdown",
   "metadata": {
    "id": "HRg8yBH4JYlw"
   },
   "source": [
    "**[4.5]** Import the [Dense()](https://www.tensorflow.org/api_docs/python/tf/keras/layers/Dense) and [Dropout()](https://www.tensorflow.org/api_docs/python/tf/keras/layers/Dropout) classes"
   ]
  },
  {
   "cell_type": "code",
   "execution_count": 45,
   "metadata": {
    "id": "HwX8j9UxJYsB"
   },
   "outputs": [],
   "source": [
    "# Placeholder for student's code"
   ]
  },
  {
   "cell_type": "code",
   "execution_count": 46,
   "metadata": {
    "id": "E8zE6sboIl8F"
   },
   "outputs": [],
   "source": [
    "# Solution\n",
    "from tensorflow.keras.layers import Dense, Dropout"
   ]
  },
  {
   "cell_type": "markdown",
   "metadata": {
    "id": "ji7L0Rv5Jwyd"
   },
   "source": [
    "**[4.6]** Create a hidden layer of 128 fully connected neurons with ReLU as the activation function followed by another fully connected layer responsible of making final predictions."
   ]
  },
  {
   "cell_type": "code",
   "execution_count": 47,
   "metadata": {
    "id": "o21VeqyaJw-V"
   },
   "outputs": [],
   "source": [
    "# Placeholder for student's code"
   ]
  },
  {
   "cell_type": "code",
   "execution_count": 48,
   "metadata": {
    "id": "JfOK0UK-Ag-q"
   },
   "outputs": [],
   "source": [
    "# Solution\n",
    "layer1 = Dense(128, activation='relu', input_shape=[20], kernel_regularizer=regularizer)\n",
    "top_layer = Dense(1, activation='sigmoid')"
   ]
  },
  {
   "cell_type": "markdown",
   "metadata": {
    "id": "Giu65yemJybk"
   },
   "source": [
    "**[4.7]** Assemble the 2 fully-connected layers we just defined. We will be using the [.add()](https://www.tensorflow.org/api_docs/python/tf/keras/layers/add) method"
   ]
  },
  {
   "cell_type": "code",
   "execution_count": 49,
   "metadata": {
    "id": "KcupqZtWJym6"
   },
   "outputs": [],
   "source": [
    "# Placeholder for student's code"
   ]
  },
  {
   "cell_type": "code",
   "execution_count": 50,
   "metadata": {
    "id": "Goi9jTI_B1KE"
   },
   "outputs": [],
   "source": [
    "# Solution\n",
    "model.add(layer1)\n",
    "model.add(top_layer)"
   ]
  },
  {
   "cell_type": "markdown",
   "metadata": {
    "id": "rqaKbkLFKHZp"
   },
   "source": [
    "**[4.8]** Instantiate a [RMSprop()](https://www.tensorflow.org/api_docs/python/tf/keras/optimizers/RMSprop) with 0.01 as learning rate and call it `optimizer`"
   ]
  },
  {
   "cell_type": "code",
   "execution_count": 51,
   "metadata": {
    "id": "J2hUnYGvKHgb"
   },
   "outputs": [],
   "source": [
    "# Placeholder for student's code"
   ]
  },
  {
   "cell_type": "code",
   "execution_count": 52,
   "metadata": {
    "id": "-jTnPvOnKoPO"
   },
   "outputs": [],
   "source": [
    "# Solution\n",
    "optimizer = tf.keras.optimizers.RMSprop(0.001)"
   ]
  },
  {
   "cell_type": "markdown",
   "metadata": {
    "id": "JqaVFuLNKoiL"
   },
   "source": [
    "**[4.9]** Configure the learning process using the [.compile()](https://www.tensorflow.org/api_docs/python/tf/keras/Model#methods_2) method and specify the loss function, optimizer and the metrics to be used."
   ]
  },
  {
   "cell_type": "code",
   "execution_count": 53,
   "metadata": {
    "id": "5c1Xe5KTKoo6"
   },
   "outputs": [],
   "source": [
    "# Placeholder for student's code"
   ]
  },
  {
   "cell_type": "code",
   "execution_count": 54,
   "metadata": {
    "id": "fD9XkfyqKyGW"
   },
   "outputs": [],
   "source": [
    "# Solution\n",
    "model.compile(loss='binary_crossentropy', optimizer=optimizer, metrics=['accuracy'])"
   ]
  },
  {
   "cell_type": "markdown",
   "metadata": {
    "id": "f4iRb85QKx_X"
   },
   "source": [
    "**[4.10]** Print out the model architecture with [.summary()](https://www.tensorflow.org/api_docs/python/tf/keras/Model#summary)\n",
    "\n",
    "**Task: Print the summary of the model**"
   ]
  },
  {
   "cell_type": "code",
   "execution_count": 55,
   "metadata": {
    "id": "hdvjQ9qWK0cb"
   },
   "outputs": [],
   "source": [
    "# Placeholder for student's code"
   ]
  },
  {
   "cell_type": "code",
   "execution_count": 56,
   "metadata": {
    "id": "4cA5-uAu2KYA"
   },
   "outputs": [
    {
     "name": "stdout",
     "output_type": "stream",
     "text": [
      "Model: \"sequential\"\n",
      "_________________________________________________________________\n",
      " Layer (type)                Output Shape              Param #   \n",
      "=================================================================\n",
      " dense (Dense)               (None, 128)               2688      \n",
      "                                                                 \n",
      " dense_1 (Dense)             (None, 1)                 129       \n",
      "                                                                 \n",
      "=================================================================\n",
      "Total params: 2817 (11.00 KB)\n",
      "Trainable params: 2817 (11.00 KB)\n",
      "Non-trainable params: 0 (0.00 Byte)\n",
      "_________________________________________________________________\n"
     ]
    }
   ],
   "source": [
    "# Solution\n",
    "model.summary()"
   ]
  },
  {
   "cell_type": "markdown",
   "metadata": {
    "id": "WzZhz4cT2KYD"
   },
   "source": [
    "### 5. Training and Evaluation of the Model"
   ]
  },
  {
   "cell_type": "markdown",
   "metadata": {
    "id": "pXRrAnP3LUIH"
   },
   "source": [
    "**[5.1]** Train the model using [.fit()](https://www.tensorflow.org/api_docs/python/tf/keras/Model#fit) on the training set on 50 epochs and create a validation set (20%)"
   ]
  },
  {
   "cell_type": "code",
   "execution_count": 57,
   "metadata": {
    "id": "9SZhOUEuLUTk"
   },
   "outputs": [],
   "source": [
    "# Placeholder for student's code"
   ]
  },
  {
   "cell_type": "code",
   "execution_count": 58,
   "metadata": {
    "id": "rNG1K1E6C7tJ"
   },
   "outputs": [
    {
     "name": "stdout",
     "output_type": "stream",
     "text": [
      "Epoch 1/50\n",
      "20/20 [==============================] - 0s 5ms/step - loss: 3.1823 - accuracy: 0.6844 - val_loss: 2.8245 - val_accuracy: 0.7312\n",
      "Epoch 2/50\n",
      "20/20 [==============================] - 0s 1ms/step - loss: 2.6287 - accuracy: 0.7234 - val_loss: 2.3768 - val_accuracy: 0.7312\n",
      "Epoch 3/50\n",
      "20/20 [==============================] - 0s 1ms/step - loss: 2.2027 - accuracy: 0.7344 - val_loss: 1.9948 - val_accuracy: 0.7125\n",
      "Epoch 4/50\n",
      "20/20 [==============================] - 0s 1ms/step - loss: 1.8339 - accuracy: 0.7391 - val_loss: 1.6657 - val_accuracy: 0.7250\n",
      "Epoch 5/50\n",
      "20/20 [==============================] - 0s 1ms/step - loss: 1.5201 - accuracy: 0.7563 - val_loss: 1.3868 - val_accuracy: 0.7125\n",
      "Epoch 6/50\n",
      "20/20 [==============================] - 0s 1ms/step - loss: 1.2556 - accuracy: 0.7547 - val_loss: 1.1544 - val_accuracy: 0.7125\n",
      "Epoch 7/50\n",
      "20/20 [==============================] - 0s 1ms/step - loss: 1.0375 - accuracy: 0.7641 - val_loss: 0.9666 - val_accuracy: 0.7125\n",
      "Epoch 8/50\n",
      "20/20 [==============================] - 0s 1ms/step - loss: 0.8709 - accuracy: 0.7672 - val_loss: 0.8300 - val_accuracy: 0.7063\n",
      "Epoch 9/50\n",
      "20/20 [==============================] - 0s 1ms/step - loss: 0.7508 - accuracy: 0.7719 - val_loss: 0.7383 - val_accuracy: 0.7063\n",
      "Epoch 10/50\n",
      "20/20 [==============================] - 0s 3ms/step - loss: 0.6726 - accuracy: 0.7781 - val_loss: 0.6789 - val_accuracy: 0.7063\n",
      "Epoch 11/50\n",
      "20/20 [==============================] - 0s 1ms/step - loss: 0.6301 - accuracy: 0.7688 - val_loss: 0.6491 - val_accuracy: 0.7000\n",
      "Epoch 12/50\n",
      "20/20 [==============================] - 0s 1ms/step - loss: 0.6068 - accuracy: 0.7656 - val_loss: 0.6357 - val_accuracy: 0.7125\n",
      "Epoch 13/50\n",
      "20/20 [==============================] - 0s 1ms/step - loss: 0.5927 - accuracy: 0.7672 - val_loss: 0.6255 - val_accuracy: 0.7063\n",
      "Epoch 14/50\n",
      "20/20 [==============================] - 0s 1ms/step - loss: 0.5836 - accuracy: 0.7719 - val_loss: 0.6187 - val_accuracy: 0.7437\n",
      "Epoch 15/50\n",
      "20/20 [==============================] - 0s 1ms/step - loss: 0.5788 - accuracy: 0.7641 - val_loss: 0.6139 - val_accuracy: 0.7188\n",
      "Epoch 16/50\n",
      "20/20 [==============================] - 0s 1ms/step - loss: 0.5727 - accuracy: 0.7656 - val_loss: 0.6135 - val_accuracy: 0.7250\n",
      "Epoch 17/50\n",
      "20/20 [==============================] - 0s 1ms/step - loss: 0.5682 - accuracy: 0.7594 - val_loss: 0.6105 - val_accuracy: 0.7500\n",
      "Epoch 18/50\n",
      "20/20 [==============================] - 0s 1ms/step - loss: 0.5662 - accuracy: 0.7672 - val_loss: 0.6037 - val_accuracy: 0.7250\n",
      "Epoch 19/50\n",
      "20/20 [==============================] - 0s 1ms/step - loss: 0.5630 - accuracy: 0.7625 - val_loss: 0.6072 - val_accuracy: 0.7188\n",
      "Epoch 20/50\n",
      "20/20 [==============================] - 0s 1ms/step - loss: 0.5613 - accuracy: 0.7734 - val_loss: 0.6039 - val_accuracy: 0.7375\n",
      "Epoch 21/50\n",
      "20/20 [==============================] - 0s 1ms/step - loss: 0.5582 - accuracy: 0.7688 - val_loss: 0.6049 - val_accuracy: 0.7188\n",
      "Epoch 22/50\n",
      "20/20 [==============================] - 0s 1ms/step - loss: 0.5575 - accuracy: 0.7734 - val_loss: 0.6138 - val_accuracy: 0.7063\n",
      "Epoch 23/50\n",
      "20/20 [==============================] - 0s 1ms/step - loss: 0.5551 - accuracy: 0.7766 - val_loss: 0.6074 - val_accuracy: 0.7188\n",
      "Epoch 24/50\n",
      "20/20 [==============================] - 0s 1ms/step - loss: 0.5539 - accuracy: 0.7719 - val_loss: 0.6039 - val_accuracy: 0.7125\n",
      "Epoch 25/50\n",
      "20/20 [==============================] - 0s 3ms/step - loss: 0.5527 - accuracy: 0.7734 - val_loss: 0.5970 - val_accuracy: 0.7188\n",
      "Epoch 26/50\n",
      "20/20 [==============================] - 0s 1ms/step - loss: 0.5505 - accuracy: 0.7734 - val_loss: 0.5969 - val_accuracy: 0.7250\n",
      "Epoch 27/50\n",
      "20/20 [==============================] - 0s 1ms/step - loss: 0.5494 - accuracy: 0.7734 - val_loss: 0.6141 - val_accuracy: 0.7375\n",
      "Epoch 28/50\n",
      "20/20 [==============================] - 0s 1ms/step - loss: 0.5500 - accuracy: 0.7766 - val_loss: 0.6002 - val_accuracy: 0.7437\n",
      "Epoch 29/50\n",
      "20/20 [==============================] - 0s 1ms/step - loss: 0.5482 - accuracy: 0.7781 - val_loss: 0.6025 - val_accuracy: 0.7125\n",
      "Epoch 30/50\n",
      "20/20 [==============================] - 0s 1ms/step - loss: 0.5473 - accuracy: 0.7844 - val_loss: 0.5986 - val_accuracy: 0.7312\n",
      "Epoch 31/50\n",
      "20/20 [==============================] - 0s 1ms/step - loss: 0.5454 - accuracy: 0.7844 - val_loss: 0.5998 - val_accuracy: 0.7125\n",
      "Epoch 32/50\n",
      "20/20 [==============================] - 0s 1ms/step - loss: 0.5466 - accuracy: 0.7719 - val_loss: 0.6000 - val_accuracy: 0.7312\n",
      "Epoch 33/50\n",
      "20/20 [==============================] - 0s 1ms/step - loss: 0.5440 - accuracy: 0.7688 - val_loss: 0.5988 - val_accuracy: 0.7188\n",
      "Epoch 34/50\n",
      "20/20 [==============================] - 0s 1ms/step - loss: 0.5438 - accuracy: 0.7750 - val_loss: 0.5927 - val_accuracy: 0.7188\n",
      "Epoch 35/50\n",
      "20/20 [==============================] - 0s 2ms/step - loss: 0.5428 - accuracy: 0.7750 - val_loss: 0.6021 - val_accuracy: 0.7125\n",
      "Epoch 36/50\n",
      "20/20 [==============================] - 0s 1ms/step - loss: 0.5440 - accuracy: 0.7828 - val_loss: 0.6000 - val_accuracy: 0.7250\n",
      "Epoch 37/50\n",
      "20/20 [==============================] - 0s 1ms/step - loss: 0.5421 - accuracy: 0.7828 - val_loss: 0.6012 - val_accuracy: 0.7312\n",
      "Epoch 38/50\n",
      "20/20 [==============================] - 0s 1ms/step - loss: 0.5402 - accuracy: 0.7828 - val_loss: 0.6061 - val_accuracy: 0.7312\n",
      "Epoch 39/50\n",
      "20/20 [==============================] - 0s 1ms/step - loss: 0.5396 - accuracy: 0.7859 - val_loss: 0.6016 - val_accuracy: 0.7188\n",
      "Epoch 40/50\n",
      "20/20 [==============================] - 0s 1ms/step - loss: 0.5401 - accuracy: 0.7844 - val_loss: 0.6092 - val_accuracy: 0.7250\n",
      "Epoch 41/50\n",
      "20/20 [==============================] - 0s 1ms/step - loss: 0.5376 - accuracy: 0.7781 - val_loss: 0.5991 - val_accuracy: 0.7188\n",
      "Epoch 42/50\n",
      "20/20 [==============================] - 0s 1ms/step - loss: 0.5373 - accuracy: 0.7812 - val_loss: 0.5973 - val_accuracy: 0.7188\n",
      "Epoch 43/50\n",
      "20/20 [==============================] - 0s 1ms/step - loss: 0.5377 - accuracy: 0.7828 - val_loss: 0.6076 - val_accuracy: 0.7312\n",
      "Epoch 44/50\n",
      "20/20 [==============================] - 0s 1ms/step - loss: 0.5357 - accuracy: 0.7734 - val_loss: 0.6051 - val_accuracy: 0.7250\n",
      "Epoch 45/50\n",
      "20/20 [==============================] - 0s 1ms/step - loss: 0.5370 - accuracy: 0.7891 - val_loss: 0.6007 - val_accuracy: 0.7063\n",
      "Epoch 46/50\n",
      "20/20 [==============================] - 0s 1ms/step - loss: 0.5353 - accuracy: 0.7859 - val_loss: 0.6028 - val_accuracy: 0.7063\n",
      "Epoch 47/50\n",
      "20/20 [==============================] - 0s 1ms/step - loss: 0.5351 - accuracy: 0.7891 - val_loss: 0.6004 - val_accuracy: 0.7250\n",
      "Epoch 48/50\n",
      "20/20 [==============================] - 0s 1ms/step - loss: 0.5342 - accuracy: 0.7891 - val_loss: 0.5977 - val_accuracy: 0.7125\n",
      "Epoch 49/50\n",
      "20/20 [==============================] - 0s 3ms/step - loss: 0.5332 - accuracy: 0.7859 - val_loss: 0.6011 - val_accuracy: 0.7063\n",
      "Epoch 50/50\n",
      "20/20 [==============================] - 0s 1ms/step - loss: 0.5334 - accuracy: 0.7859 - val_loss: 0.6025 - val_accuracy: 0.7125\n"
     ]
    }
   ],
   "source": [
    "# Solution\n",
    "history = model.fit(scaled_X_train, y_train, epochs=50, validation_split = 0.2)"
   ]
  },
  {
   "cell_type": "markdown",
   "metadata": {
    "id": "w4dwv5SHOewH"
   },
   "source": [
    "**[5.2]** Evaluate the performance of this model on the testing set using [.evaluate()](https://www.tensorflow.org/api_docs/python/tf/keras/Model#evaluate)"
   ]
  },
  {
   "cell_type": "code",
   "execution_count": 59,
   "metadata": {
    "id": "dZ9QgQ0xOe2u"
   },
   "outputs": [],
   "source": [
    "# Placeholder for student's code"
   ]
  },
  {
   "cell_type": "code",
   "execution_count": 60,
   "metadata": {
    "id": "plvRANV9DL9T"
   },
   "outputs": [
    {
     "name": "stdout",
     "output_type": "stream",
     "text": [
      "7/7 [==============================] - 0s 918us/step - loss: 0.5753 - accuracy: 0.7350\n"
     ]
    },
    {
     "data": {
      "text/plain": [
       "[0.5752631425857544, 0.7350000143051147]"
      ]
     },
     "execution_count": 60,
     "metadata": {},
     "output_type": "execute_result"
    }
   ],
   "source": [
    "# Solution\n",
    "model.evaluate(scaled_X_test, y_test)"
   ]
  },
  {
   "cell_type": "markdown",
   "metadata": {
    "id": "-LIHvWbj2KYN"
   },
   "source": [
    "### 6. Analysing the Results"
   ]
  },
  {
   "cell_type": "markdown",
   "metadata": {
    "id": "uVEADR8HOi-d"
   },
   "source": [
    "**[6.1]** Plot the learning curve for accuracy score on the training and validation sets. We will use the [.plot()](https://matplotlib.org/3.1.1/api/_as_gen/matplotlib.pyplot.plot.html#matplotlib.pyplot.plot) method to create a line chart."
   ]
  },
  {
   "cell_type": "code",
   "execution_count": 61,
   "metadata": {
    "id": "l3pKT3oyOjGv"
   },
   "outputs": [],
   "source": [
    "# Placeholder for student's code"
   ]
  },
  {
   "cell_type": "code",
   "execution_count": 62,
   "metadata": {
    "id": "OUqGYPBjFmcV",
    "scrolled": true
   },
   "outputs": [
    {
     "data": {
      "image/png": "[encoded data removed]",
      "text/plain": [
       "<Figure size 640x480 with 1 Axes>"
      ]
     },
     "metadata": {},
     "output_type": "display_data"
    }
   ],
   "source": [
    "# Solution\n",
    "plt.plot(history.history['accuracy'], label='training')\n",
    "plt.plot(history.history['val_accuracy'], label='validation')\n",
    "plt.ylabel('accuracy')\n",
    "plt.xlabel('Epoch')\n",
    "plt.show()"
   ]
  },
  {
   "cell_type": "markdown",
   "metadata": {
    "id": "QrHFG_hje94P"
   },
   "source": [
    "### 7.   Push changes"
   ]
  },
  {
   "cell_type": "markdown",
   "metadata": {
    "id": "su1MoOlue-Q3"
   },
   "source": [
    "**[7.1]** Add you changes to git staging area"
   ]
  },
  {
   "cell_type": "code",
   "execution_count": 63,
   "metadata": {
    "id": "tiC4wXXse-W7"
   },
   "outputs": [],
   "source": [
    "# Placeholder for student's code (command line)"
   ]
  },
  {
   "cell_type": "code",
   "execution_count": null,
   "metadata": {
    "id": "JltWva0ve-Zt"
   },
   "outputs": [],
   "source": [
    "# Solution:\n",
    "git add ."
   ]
  },
  {
   "cell_type": "markdown",
   "metadata": {
    "id": "YsbFm8YtfHnf"
   },
   "source": [
    "**[7.2]** Create the snapshot of your repository and add a description"
   ]
  },
  {
   "cell_type": "code",
   "execution_count": null,
   "metadata": {
    "id": "X3EaFz29fHs1"
   },
   "outputs": [],
   "source": [
    "# Placeholder for student's code (command line)"
   ]
  },
  {
   "cell_type": "code",
   "execution_count": null,
   "metadata": {
    "id": "oy4NNYhMfHvT"
   },
   "outputs": [],
   "source": [
    "# Solution:\n",
    "git commit -m \"third tf model\""
   ]
  },
  {
   "cell_type": "markdown",
   "metadata": {
    "id": "v1mHBW5afOCZ"
   },
   "source": [
    "**[7.3]** Push your snapshot to Github"
   ]
  },
  {
   "cell_type": "code",
   "execution_count": null,
   "metadata": {
    "id": "Jlmgl7ihfOLE"
   },
   "outputs": [],
   "source": [
    "# Placeholder for student's code (command line)"
   ]
  },
  {
   "cell_type": "code",
   "execution_count": null,
   "metadata": {
    "id": "dz2Dj4QqfONj"
   },
   "outputs": [],
   "source": [
    "# Solution:\n",
    "git push"
   ]
  },
  {
   "cell_type": "markdown",
   "metadata": {
    "id": "rKlOeFvKfVXX"
   },
   "source": [
    "**[7.4]** Go to Github and merge the branch after reviewing the code and fixing any conflict\n"
   ]
  },
  {
   "cell_type": "markdown",
   "metadata": {
    "id": "D8CmNHKyfTQO"
   },
   "source": [
    "**[7.5]** Check out to the master branch"
   ]
  },
  {
   "cell_type": "code",
   "execution_count": null,
   "metadata": {
    "id": "jJ8FC3vCfTXp"
   },
   "outputs": [],
   "source": [
    "# Placeholder for student's code (command line)"
   ]
  },
  {
   "cell_type": "code",
   "execution_count": null,
   "metadata": {
    "id": "bFC831RqfTaQ"
   },
   "outputs": [],
   "source": [
    "# Solution:\n",
    "git checkout master"
   ]
  },
  {
   "cell_type": "markdown",
   "metadata": {
    "id": "lR7Ars87fbFk"
   },
   "source": [
    "**[7.6]** Pull the latest updates\n"
   ]
  },
  {
   "cell_type": "code",
   "execution_count": null,
   "metadata": {
    "id": "uEm-5q31fbXn"
   },
   "outputs": [],
   "source": [
    "# Placeholder for student's code (command line)"
   ]
  },
  {
   "cell_type": "code",
   "execution_count": null,
   "metadata": {
    "id": "nPd8AMYefbaS"
   },
   "outputs": [],
   "source": [
    "git pull"
   ]
  },
  {
   "cell_type": "markdown",
   "metadata": {
    "id": "TO34B8z8fg58"
   },
   "source": [
    "**[7.7]** Stop the Docker container"
   ]
  },
  {
   "cell_type": "code",
   "execution_count": null,
   "metadata": {
    "id": "REkVOIVxfhBo"
   },
   "outputs": [],
   "source": [
    "# Placeholder for student's code (command line)"
   ]
  },
  {
   "cell_type": "code",
   "execution_count": null,
   "metadata": {
    "id": "Nj2rzsdDfhEL"
   },
   "outputs": [],
   "source": [
    "# Solution\n",
    "docker stop adv_mla_lab_8"
   ]
  },
  {
   "cell_type": "markdown",
   "metadata": {
    "id": "KywOOH5Sfm2T"
   },
   "source": [
    "Documentation: https://docs.docker.com/engine/reference/commandline/stop/"
   ]
  }
 ],
 "metadata": {
  "colab": {
   "provenance": [
    {
     "file_id": "1NoxW5HXEResPXg6h8zY9eOIkOuusZE2D",
     "timestamp": 1647247883519
    }
   ]
  },
  "kernelspec": {
   "display_name": "Python 3 (ipykernel)",
   "language": "python",
   "name": "python3"
  },
  "language_info": {
   "codemirror_mode": {
    "name": "ipython",
    "version": 3
   },
   "file_extension": ".py",
   "mimetype": "text/x-python",
   "name": "python",
   "nbconvert_exporter": "python",
   "pygments_lexer": "ipython3",
   "version": "3.11.4"
  }
 },
 "nbformat": 4,
 "nbformat_minor": 4
}
